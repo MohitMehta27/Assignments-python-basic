{
 "cells": [
  {
   "cell_type": "markdown",
   "id": "8844a7d1-ba9d-4589-97ab-135b986685f3",
   "metadata": {},
   "source": [
    "1. How do you distinguish between shutil.copy() and shutil.copytree()?"
   ]
  },
  {
   "cell_type": "markdown",
   "id": "02595f4d-45ed-4d6c-a160-6edd9f8cc529",
   "metadata": {},
   "source": [
    "shutil.copy(src, dst) function copies a single file (src) to a destination (dst) location. If dst is a directory, it will create a file with the same name as the source file in the directory. If dst is a file, it will overwrite the file with the contents of the source file.\n",
    "shutil.copytree(src, dst) function, on the other hand, recursively copies an entire directory src to a destination dst directory. It preserves the structure and contents of the source directory, creating subdirectories and copying all files and subdirectories under the source directory"
   ]
  },
  {
   "cell_type": "markdown",
   "id": "8cbee443-083e-4533-91ca-a61d61f39160",
   "metadata": {},
   "source": [
    "2. What function is used to rename files??"
   ]
  },
  {
   "cell_type": "code",
   "execution_count": null,
   "id": "21c93c39-c3fb-4a74-a38e-0031b6d74c18",
   "metadata": {},
   "outputs": [],
   "source": [
    "#The os.rename() function is used to rename files. This function is part of the built-in os module and allows you to rename a file by specifying its old name and new name. \n",
    "import os\n",
    "\n",
    "# Rename a file\n",
    "os.rename('old_file_name.txt', 'new_file_name.txt')\n"
   ]
  },
  {
   "cell_type": "markdown",
   "id": "bfbe63b0-fb5d-4a28-8094-36e7795fd72a",
   "metadata": {},
   "source": [
    "3. What is the difference between the delete functions in the send2trash and shutil modules?"
   ]
  },
  {
   "cell_type": "markdown",
   "id": "cbaf3047-47cf-43c4-9882-11c74466c95d",
   "metadata": {},
   "source": [
    "The main difference is that send2trash sends files to the operating system's trash or recycle bin, while shutil permanently deletes files and directories."
   ]
  },
  {
   "cell_type": "markdown",
   "id": "0a5752ee-694f-4d33-a50a-5e30eab355ec",
   "metadata": {},
   "source": [
    "4. ZipFile objects have a close() method just like File objects’ close() method. What ZipFile method is equivalent to File objects’ open() method?"
   ]
  },
  {
   "cell_type": "markdown",
   "id": "84d7e1d3-c261-41c6-ab7c-ecc83ef04ba0",
   "metadata": {},
   "source": [
    "The zipfile.ZipFile() function is equivalent to the open() function; the first argument is the filename, and the second argument is the mode to open the ZIP file in (read, write, or append)."
   ]
  },
  {
   "cell_type": "markdown",
   "id": "c058daf3-377d-4e78-bd97-06ab2e4cc4dc",
   "metadata": {},
   "source": [
    "5. Create a programme that searches a folder tree for files with a certain file extension (such as .pdf or .jpg). Copy these files from whatever location they are in to a new folder."
   ]
  },
  {
   "cell_type": "code",
   "execution_count": 1,
   "id": "4137ffe9-7e80-4036-86f3-3647c8cf3153",
   "metadata": {},
   "outputs": [],
   "source": [
    "import os\n",
    "import shutil\n",
    "\n",
    "def copy_files_with_extension(src_folder, dest_folder, extension):\n",
    "    \"\"\"\n",
    "    Searches a folder tree for files with a certain file extension and copies them to a new folder.\n",
    "    \"\"\"\n",
    "\n",
    "    # Create the destination folder if it does not exist\n",
    "    if not os.path.exists(dest_folder):\n",
    "        os.makedirs(dest_folder)\n",
    "\n",
    "    # Recursively search the source folder for files with the given extension\n",
    "    for root, dirs, files in os.walk(src_folder):\n",
    "        for file in files:\n",
    "            if file.endswith(extension):\n",
    "                # Construct the full source and destination paths\n",
    "                src_path = os.path.join(root, file)\n",
    "                dest_path = os.path.join(dest_folder, file)\n",
    "\n",
    "                # Copy the file to the destination folder\n",
    "                shutil.copy2(src_path, dest_path)\n",
    "                print(f\"Copied {src_path} to {dest_path}\")\n",
    "\n",
    "# Example usage: search for PDF files in the 'documents' folder and copy them to the 'pdf_files' folder\n",
    "copy_files_with_extension('documents', 'pdf_files', '.pdf')\n"
   ]
  }
 ],
 "metadata": {
  "kernelspec": {
   "display_name": "Python 3 (ipykernel)",
   "language": "python",
   "name": "python3"
  },
  "language_info": {
   "codemirror_mode": {
    "name": "ipython",
    "version": 3
   },
   "file_extension": ".py",
   "mimetype": "text/x-python",
   "name": "python",
   "nbconvert_exporter": "python",
   "pygments_lexer": "ipython3",
   "version": "3.10.6"
  }
 },
 "nbformat": 4,
 "nbformat_minor": 5
}
