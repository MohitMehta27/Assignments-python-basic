{
 "cells": [
  {
   "cell_type": "markdown",
   "id": "b575162a-766e-4103-a303-9048bdb3e31b",
   "metadata": {},
   "source": [
    "1. Create an assert statement that throws an AssertionError if the variable spam is a negative integer."
   ]
  },
  {
   "cell_type": "code",
   "execution_count": 24,
   "id": "2cce9e2a-5155-46aa-b31e-913d7936895f",
   "metadata": {},
   "outputs": [
    {
     "name": "stdin",
     "output_type": "stream",
     "text": [
      "Enter value for spam -9\n"
     ]
    },
    {
     "name": "stdout",
     "output_type": "stream",
     "text": [
      "Error: Please input positive integer\n"
     ]
    }
   ],
   "source": [
    "spam=int(input(\"Enter value for spam\"))\n",
    "try:\n",
    "    if spam<=0:\n",
    "        raise AssertionError (\"Please input positive integer\")\n",
    "    else:\n",
    "        print (spam)\n",
    "        print (\"correct input\")\n",
    "except AssertionError as e:\n",
    "    print(f\"Error: {e}\")\n",
    "    \n",
    "    "
   ]
  },
  {
   "cell_type": "markdown",
   "id": "b4b46651-2c31-4473-add0-854c19afbe28",
   "metadata": {},
   "source": [
    "2. Write an assert statement that triggers an AssertionError if the variables eggs and bacon contain strings that are the same as each other, even if their cases are different (that is, 'hello' and 'hello' are considered the same, and 'goodbye' and 'GOODbye' are also considered the same)."
   ]
  },
  {
   "cell_type": "code",
   "execution_count": 22,
   "id": "e239fd99-96e2-4df7-8cb7-1524d24ff6b4",
   "metadata": {},
   "outputs": [
    {
     "name": "stdin",
     "output_type": "stream",
     "text": [
      "Value for egg:  Hello\n",
      "Value of spam:  hello\n"
     ]
    },
    {
     "name": "stdout",
     "output_type": "stream",
     "text": [
      "Error: eggs and bacon cannot have the same value (case-insensitive)\n"
     ]
    }
   ],
   "source": [
    "eggs=str(input(\"Value for egg: \"))\n",
    "bacon=str(input(\"Value of spam: \"))\n",
    "try:\n",
    "    assert eggs.lower() != bacon.lower(), \"eggs and bacon cannot have the same value (case-insensitive)\"\n",
    "except AssertionError as e:\n",
    "    print(f\"Error: {e}\")\n"
   ]
  },
  {
   "cell_type": "markdown",
   "id": "78848c71-7f02-4657-870e-2ff7f989aaeb",
   "metadata": {},
   "source": [
    "3. Create an assert statement that throws an AssertionError every time."
   ]
  },
  {
   "cell_type": "code",
   "execution_count": 1,
   "id": "4e8f4df4-f2de-4698-b765-8be3426811a6",
   "metadata": {},
   "outputs": [
    {
     "ename": "AssertionError",
     "evalue": "This will throw AssertionError everytime",
     "output_type": "error",
     "traceback": [
      "\u001b[0;31m---------------------------------------------------------------------------\u001b[0m",
      "\u001b[0;31mAssertionError\u001b[0m                            Traceback (most recent call last)",
      "Cell \u001b[0;32mIn [1], line 1\u001b[0m\n\u001b[0;32m----> 1\u001b[0m \u001b[38;5;28;01massert\u001b[39;00m \u001b[38;5;28;01mFalse\u001b[39;00m, \u001b[38;5;124m\"\u001b[39m\u001b[38;5;124mThis will throw AssertionError everytime\u001b[39m\u001b[38;5;124m\"\u001b[39m\n",
      "\u001b[0;31mAssertionError\u001b[0m: This will throw AssertionError everytime"
     ]
    }
   ],
   "source": [
    "assert False, \"This will throw AssertionError everytime\"\n"
   ]
  },
  {
   "cell_type": "markdown",
   "id": "78f4ab4c-3689-4e18-998f-19c4bdd7a7db",
   "metadata": {},
   "source": [
    "4. What are the two lines that must be present in your software in order to call logging.debug()?"
   ]
  },
  {
   "cell_type": "code",
   "execution_count": null,
   "id": "a0dcb1ee-612a-43bf-ab70-339a9cb06258",
   "metadata": {},
   "outputs": [],
   "source": [
    "import logging\n",
    "\n",
    "logging.basicConfig(level=logging.DEBUG, format='%(asctime)s - %(levelname)s - %(message)s')\n"
   ]
  },
  {
   "cell_type": "markdown",
   "id": "1c65c68b-9a81-4a6b-9139-b214ba920302",
   "metadata": {},
   "source": [
    "5. What are the two lines that your program must have in order to have logging.debug() send a logging message to a file named programLog.txt?"
   ]
  },
  {
   "cell_type": "code",
   "execution_count": null,
   "id": "a740a61a-b715-4159-ac81-b7b448a46110",
   "metadata": {},
   "outputs": [],
   "source": [
    "import logging\n",
    "\n",
    "logging.basicConfig(filename='programLog.txt', level=logging.DEBUG, format='%(asctime)s - %(levelname)s - %(message)s')\n"
   ]
  },
  {
   "cell_type": "markdown",
   "id": "99f00a85-5dd4-4ba1-9a8e-22144f9967a5",
   "metadata": {},
   "source": [
    "6. What are the five levels of logging?"
   ]
  },
  {
   "cell_type": "markdown",
   "id": "57bf3d40-967f-4ce6-b7ea-f6722abadf1a",
   "metadata": {},
   "source": [
    "The five levels of logging in Python are:\n",
    "1. DEBUG\n",
    "2. INFO\n",
    "3. WARNING\n",
    "4. ERROR\n",
    "5. CRITICAL\n"
   ]
  },
  {
   "cell_type": "markdown",
   "id": "9d2d895f-ac66-4d1f-b1db-5015a73f2023",
   "metadata": {},
   "source": [
    "7. What line of code would you add to your software to disable all logging messages?"
   ]
  },
  {
   "cell_type": "code",
   "execution_count": null,
   "id": "1022c5d9-298d-4b0f-a246-9d815a18c1bb",
   "metadata": {},
   "outputs": [],
   "source": [
    "logging.disable(logging.CRITICAL)\n",
    "#As critical is at the top of the hierarchy so will effectively disables all logging messages. "
   ]
  },
  {
   "cell_type": "markdown",
   "id": "51e923b6-3154-4b80-912c-789f0390f673",
   "metadata": {},
   "source": [
    "8. Why is using logging messages better than using print() to display the same message?"
   ]
  },
  {
   "cell_type": "markdown",
   "id": "01c26c3e-6b9d-4620-8756-0c09d2ca2991",
   "metadata": {},
   "source": [
    "Advantages of logging message over print():\n",
    "1. Flexibility and configurability: The logging module provides a range of options for controlling the formatting, destination, and level of detail of log messages. \n",
    "2. Separation of concerns: Logging messages are intended to provide insight into the internal workings of your application, while print() statements are often used for debugging or ad-hoc output. By using logging messages, you can separate the concerns of your application code from the concerns of debugging or troubleshooting. This makes it easier to maintain and scale your code over time."
   ]
  },
  {
   "cell_type": "markdown",
   "id": "95ed6f89-4751-4b81-b798-af9e5ba34b7f",
   "metadata": {},
   "source": [
    "9. What are the differences between the Step Over, Step In, and Step Out buttons in the debugger?"
   ]
  },
  {
   "cell_type": "markdown",
   "id": "8519eb4c-041c-45c9-b88a-699bb9a52d4a",
   "metadata": {},
   "source": [
    "Step in: The Step In button allows you to execute the next line of code in the program and step into any function calls. If the line of code is a function call, the debugger will move into the called function, and user can step through that function line by line.\n",
    "Step over: The Step Over button allows to execute the next line of code in the program without stepping into any function calls. If the line of code is a function call, the function will be executed as a single step, and the debugger will move to the next line of code in the current function after the function has returned.\n",
    "Step out: The debugger will execute the remaining lines of code in the current function and return control to the caller.\n"
   ]
  },
  {
   "cell_type": "markdown",
   "id": "05857bdc-4910-4940-9020-f1d415eb5ae3",
   "metadata": {},
   "source": [
    "10. After you click Continue, when will the debugger stop ?"
   ]
  },
  {
   "cell_type": "markdown",
   "id": "c6699f42-39ac-47c2-8abf-7f6296c96b47",
   "metadata": {},
   "source": [
    "After you click the Continue button in a debugger, the debugger will continue executing the program without interruption until it either reaches the end of the program or hits a breakpoint."
   ]
  },
  {
   "cell_type": "markdown",
   "id": "06a82d8a-399a-4dcf-802b-0a78df55f857",
   "metadata": {},
   "source": [
    "11. What is the concept of a breakpoint?"
   ]
  },
  {
   "cell_type": "markdown",
   "id": "3b1b9650-655f-497e-ac92-a93240c02952",
   "metadata": {},
   "source": [
    "A breakpoint is a designated point in the code where the debugger will pause execution and allow user to examine the state of the program. When a breakpoint is hit, the debugger will stop executing the program and display the current state of the program in the debugger interface, allowing to inspect variables, stack traces, and other relevant information."
   ]
  }
 ],
 "metadata": {
  "kernelspec": {
   "display_name": "Python 3 (ipykernel)",
   "language": "python",
   "name": "python3"
  },
  "language_info": {
   "codemirror_mode": {
    "name": "ipython",
    "version": 3
   },
   "file_extension": ".py",
   "mimetype": "text/x-python",
   "name": "python",
   "nbconvert_exporter": "python",
   "pygments_lexer": "ipython3",
   "version": "3.10.6"
  }
 },
 "nbformat": 4,
 "nbformat_minor": 5
}
