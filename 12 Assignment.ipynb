{
 "cells": [
  {
   "cell_type": "markdown",
   "id": "316bb1ed-0498-4496-9f03-aaa4f890f40a",
   "metadata": {},
   "source": [
    "1. In what modes should the PdfFileReader() and PdfFileWriter() File objects will be opened?"
   ]
  },
  {
   "cell_type": "markdown",
   "id": "169ec60d-9c2d-46f5-ad6e-8dcafa551d97",
   "metadata": {},
   "source": [
    "PdfFileReader(), you should open the PDF file in binary mode using the 'rb' mode, which stands for \"read binary\". This is because PDF files are binary files and require this mode to be read correctly.\n",
    "PdfFileWriter(), you should also open the PDF file in binary mode using the 'wb' mode, which stands for \"write binary\""
   ]
  },
  {
   "cell_type": "markdown",
   "id": "48d7452c-dfc6-4bce-a37c-0f7d5dec3e65",
   "metadata": {},
   "source": [
    "2. From a PdfFileReader object, how do you get a Page object for page 5?"
   ]
  },
  {
   "cell_type": "code",
   "execution_count": null,
   "id": "3efe83f1-7c88-44e3-bf48-5a2e75a9b672",
   "metadata": {},
   "outputs": [],
   "source": [
    "#To get a Page object for a specific page number from a PdfFileReader object in PyPDF2 getPage() method is used and pass in the page number as a 0-based index.\n",
    "pdf_reader = PdfFileReader(open('input.pdf', 'rb'))\n",
    "page_5 = pdf_reader.getPage(4)\n"
   ]
  },
  {
   "cell_type": "markdown",
   "id": "e01bb7bb-c613-4812-9345-e0aca55b507b",
   "metadata": {},
   "source": [
    "3. What PdfFileReader variable stores the number of pages in the PDF document?"
   ]
  },
  {
   "cell_type": "markdown",
   "id": "cb5a459f-ed98-4c4d-8c77-60dbef5bb352",
   "metadata": {},
   "source": [
    "The PdfFileReader object in PyPDF2 has a property called numPages that stores the number of pages in the PDF document."
   ]
  },
  {
   "cell_type": "markdown",
   "id": "c3852853-3273-4fb0-8346-b5017ef17d3c",
   "metadata": {},
   "source": [
    "4. If a PdfFileReader object’s PDF is encrypted with the password swordfish, what must you do before you can obtain Page objects from it?"
   ]
  },
  {
   "cell_type": "code",
   "execution_count": null,
   "id": "1d730768-bac0-4704-a76e-db98d3f823c1",
   "metadata": {},
   "outputs": [],
   "source": [
    "#decrypt() function is used before you can obtain page object from it\n",
    "pdf_reader = PdfFileReader(open('input.pdf', 'rb'))\n",
    "if pdf_reader.isEncrypted:\n",
    "    pdf_reader.decrypt('swordfish')\n"
   ]
  },
  {
   "cell_type": "markdown",
   "id": "2621368c-45b4-47d4-8e37-484661a919db",
   "metadata": {},
   "source": [
    "5. What methods do you use to rotate a page?"
   ]
  },
  {
   "cell_type": "markdown",
   "id": "38ade132-0adb-4d02-9163-71373447ba30",
   "metadata": {},
   "source": [
    "To rotate a page in PyPDF2, you can use the rotateClockwise() and rotateCounterClockwise() methods of the PageObject class. These methods allow you to rotate a page clockwise or counterclockwise by a specified number of degrees. the number of degree by which the page should be rotated is mentioned in brackets"
   ]
  },
  {
   "cell_type": "markdown",
   "id": "faf4a534-cf69-4110-847f-9882fb654c19",
   "metadata": {},
   "source": [
    "6. What is the difference between a Run object and a Paragraph object?"
   ]
  },
  {
   "cell_type": "markdown",
   "id": "404b7676-9d5a-4611-9abe-945c449a3cb7",
   "metadata": {},
   "source": [
    "A Run object represents a contiguous run of text with the same character formatting. In other words, a Run object is a sequence of characters that all have the same font, size, color, etc. A Run object can be used to change the formatting of a specific part of a paragraph without affecting the rest of the paragraph.\n",
    "A Paragraph object represents a single paragraph of text. It includes all the runs of text within the paragraph as Run objects. A Paragraph object can be used to manipulate the overall formatting of the entire paragraph, such as the paragraph's alignment, spacing, and indentation."
   ]
  },
  {
   "cell_type": "markdown",
   "id": "a32aa96a-b7ad-453e-9914-47c99c7f56d3",
   "metadata": {},
   "source": [
    "7. How do you obtain a list of Paragraph objects for a Document object that’s stored in a variable named doc?"
   ]
  },
  {
   "cell_type": "code",
   "execution_count": null,
   "id": "c34dc9a9-222e-482c-8b79-aa0d15497ed3",
   "metadata": {},
   "outputs": [],
   "source": [
    "from docx import Document\n",
    "\n",
    "doc = Document('example.docx')\n",
    "\n",
    "# Get a list of Paragraph objects\n",
    "paragraphs = doc.paragraphs\n",
    "\n",
    "# Print the text of each paragraph\n",
    "for paragraph in paragraphs:\n",
    "    print(paragraph.text)\n"
   ]
  },
  {
   "cell_type": "markdown",
   "id": "c668c993-d697-4397-8b16-4dec7c19a57a",
   "metadata": {},
   "source": [
    "8. What type of object has bold, underline, italic, strike, and outline variables?"
   ]
  },
  {
   "cell_type": "markdown",
   "id": "e655a364-1e81-450b-86d5-3ee22f86976d",
   "metadata": {},
   "source": [
    "the Font object has the bold, underline, italic, strike, and outline variables. The Font object is used to define the formatting for Run objects, which represent a contiguous run of text with the same character formatting."
   ]
  },
  {
   "cell_type": "markdown",
   "id": "aa71bb72-4e55-4ffd-a389-2b94556e4c1e",
   "metadata": {},
   "source": [
    "9. What is the difference between False, True, and None for the bold variable?"
   ]
  },
  {
   "cell_type": "markdown",
   "id": "fa3b1990-3da5-41d6-8d9c-23ff9ff20503",
   "metadata": {},
   "source": [
    " Setting bold to True will make the font appear in bold, while setting it to False will make it appear in normal where as the behaviour of the \"None\" depend on the situation. In some case it will show error and in some it will let the result unchanged."
   ]
  },
  {
   "cell_type": "markdown",
   "id": "258a3acc-50d2-4240-a003-68096a05426d",
   "metadata": {},
   "source": [
    "10. How do you create a Document object for a new Word document?"
   ]
  },
  {
   "cell_type": "code",
   "execution_count": null,
   "id": "8ee04f1d-1de8-4165-b3de-fa129d5ff3e2",
   "metadata": {},
   "outputs": [],
   "source": [
    "from docx import Document\n",
    "\n",
    "# create a new Word document\n",
    "document = Document()\n",
    "\n",
    "# add content to the document\n",
    "document.add_paragraph('This is a new document.')\n",
    "\n",
    "# save the document\n",
    "document.save('my_document.docx')\n"
   ]
  },
  {
   "cell_type": "markdown",
   "id": "cf5f54d1-c5a7-4243-ae7b-bffbc7de6411",
   "metadata": {},
   "source": [
    "11. How do you add a paragraph with the text 'Hello, there!' to a Document object stored in a variable named doc?"
   ]
  },
  {
   "cell_type": "code",
   "execution_count": null,
   "id": "b0a551f8-51fd-4a5c-b9b5-8f5cafbb61b7",
   "metadata": {},
   "outputs": [],
   "source": [
    "from docx import Document\n",
    "\n",
    "# create a new Word document\n",
    "doc = Document()\n",
    "\n",
    "# add a paragraph to the document\n",
    "doc.add_paragraph('Hello, there!')\n",
    "\n",
    "# save the document\n",
    "doc.save('my_document.docx')\n"
   ]
  },
  {
   "cell_type": "markdown",
   "id": "c563e0d0-685e-425d-a719-844d44aa3aaf",
   "metadata": {},
   "source": [
    "12. What integers represent the levels of headings available in Word documents?"
   ]
  },
  {
   "cell_type": "markdown",
   "id": "71595da3-8d27-496e-bfeb-0d10e49beb0c",
   "metadata": {},
   "source": [
    "In Word documents, there are six levels of headings available, which are represented by integer values ranging from 1 to 6.\n",
    "1: Heading 1\n",
    "2: Heading 2\n",
    "3: Heading 3\n",
    "4: Heading 4\n",
    "5: Heading 5\n",
    "6: Heading 6\n",
    "These levels of headings can be applied to paragraphs using the add_heading() method of the Document or Paragraph class in the docx module."
   ]
  }
 ],
 "metadata": {
  "kernelspec": {
   "display_name": "Python 3 (ipykernel)",
   "language": "python",
   "name": "python3"
  },
  "language_info": {
   "codemirror_mode": {
    "name": "ipython",
    "version": 3
   },
   "file_extension": ".py",
   "mimetype": "text/x-python",
   "name": "python",
   "nbconvert_exporter": "python",
   "pygments_lexer": "ipython3",
   "version": "3.10.6"
  }
 },
 "nbformat": 4,
 "nbformat_minor": 5
}
