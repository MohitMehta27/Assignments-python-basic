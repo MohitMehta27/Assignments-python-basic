{
 "cells": [
  {
   "cell_type": "markdown",
   "id": "69cb0dfc-9d1c-4729-b564-64c632fe256d",
   "metadata": {},
   "source": [
    "1. What advantages do Excel spreadsheets have over CSV spreadsheets?"
   ]
  },
  {
   "cell_type": "markdown",
   "id": "3d4dcbea-6a4b-442f-9a01-2cb905d4c9f5",
   "metadata": {},
   "source": [
    "Excel spreadsheets have a number of advantages over CSV spreadsheets, including:\n",
    "\n",
    "1. Formatting: Excel spreadsheets allow for formatting of data, such as the ability to bold, italicize, or underline text, as well as the ability to apply cell borders, shading, and number formats. This makes it easier to read and interpret the data.\n",
    "2. Formulas and Functions: Excel has a wide range of built-in formulas and functions that allow for calculations and data analysis, such as summing columns, finding averages, or calculating percentages. These features can save a lot of time and effort when working with large datasets.\n",
    "3. Graphical representation: Excel allows for the creation of charts and graphs that can visually represent the data in a more understandable manner.\n",
    "4. Data validation: Excel can validate data entered into cells, such as ensuring that only numbers are entered into a particular cell or that a date is entered in a specific format.\n",
    "\n",
    "CSV spreadsheets, on the other hand, are simpler and more lightweight than Excel spreadsheets. They can be easily opened in a text editor or spreadsheet program and are compatible with a wide range of software applications. They are also easier to share and collaborate on since they are plain text files. However, they lack the advanced features and capabilities of Excel spreadsheets."
   ]
  },
  {
   "cell_type": "markdown",
   "id": "e1507e2a-d65d-47f0-b2b9-ea287d53a508",
   "metadata": {},
   "source": [
    "2.What do you pass to csv.reader() and csv.writer() to create reader and writer objects?"
   ]
  },
  {
   "cell_type": "code",
   "execution_count": null,
   "id": "49091bde-3231-411e-8c0f-8d3e4045d611",
   "metadata": {},
   "outputs": [],
   "source": [
    "#To create a reader object using the csv module in Python, you need to pass a file object to the csv.reader() function. \n",
    "import csv\n",
    "\n",
    "with open('example.csv') as csvfile:\n",
    "    reader = csv.reader(csvfile)\n",
    "    for row in reader:\n",
    "        print(row)\n",
    "#To create a writer object using the csv module, you need to pass a file object and a list of fieldnames to the csv.writer() function. For example:\n",
    "import csv\n",
    "\n",
    "with open('example.csv', 'w', newline='') as csvfile:\n",
    "    fieldnames = ['Name', 'Age', 'Gender']\n",
    "    writer = csv.DictWriter(csvfile, fieldnames=fieldnames)\n",
    "\n",
    "    writer.writeheader()\n",
    "    writer.writerow({'Name': 'John', 'Age': 30, 'Gender': 'Male'})\n",
    "    writer.writerow({'Name': 'Jane', 'Age': 25, 'Gender': 'Female'})\n"
   ]
  },
  {
   "cell_type": "markdown",
   "id": "59fab746-66bf-4498-9406-70878db4a080",
   "metadata": {},
   "source": [
    "3. What modes do File objects for reader and writer objects need to be opened in?"
   ]
  },
  {
   "cell_type": "markdown",
   "id": "5edd6598-d20c-409f-b798-62631822d6b0",
   "metadata": {},
   "source": [
    "For a reader object, you need to open the file in text mode and in read mode ('r'). This is because the csv.reader() function reads the contents of the CSV file and returns the data as strings. \n",
    "For a writer object, you need to open the file in text mode and in write mode ('w') or append mode ('a'). This is because the csv.writer() function writes the CSV data to the file as text. "
   ]
  },
  {
   "cell_type": "markdown",
   "id": "23688d48-4a2d-4a68-9499-32468a946233",
   "metadata": {},
   "source": [
    "4. What method takes a list argument and writes it to a CSV file?"
   ]
  },
  {
   "cell_type": "markdown",
   "id": "49d37ff5-14e7-4532-9b88-bdb9effb2c95",
   "metadata": {},
   "source": [
    "The csv.writer() function in Python's csv module returns a writer object that provides a method writerow() to write rows to a CSV file. The writerow() method takes a list as an argument, where each element in the list is written as a separate field in the CSV file."
   ]
  },
  {
   "cell_type": "markdown",
   "id": "b0edba47-1517-424a-966c-aa62d08540f8",
   "metadata": {},
   "source": [
    "5. What do the keyword arguments delimiter and line terminator do?"
   ]
  },
  {
   "cell_type": "markdown",
   "id": "c90a29c6-341e-49ee-ac8e-52e124e85a0c",
   "metadata": {},
   "source": [
    "The delimiter and lineterminator are keyword arguments in the csv module in Python that are used to specify the character used to separate fields and the character used to terminate lines in a CSV file.\n",
    "1. delimiter: The delimiter argument specifies the character that separates fields in a CSV file. The default delimiter is a comma (,), but you can specify a different delimiter using this argument.\n",
    "2. lineterminator: The lineterminator argument specifies the character that terminates lines in a CSV file. The default line terminator is the newline (\\n) character, but you can specify a different character using this argument"
   ]
  },
  {
   "cell_type": "markdown",
   "id": "2063f82d-ccd7-4db9-bc42-d12794239b23",
   "metadata": {},
   "source": [
    "6. What function takes a string of JSON data and returns a Python data structure?"
   ]
  },
  {
   "cell_type": "markdown",
   "id": "5b5e93d8-1bc1-4823-ab10-ec015c7ea8de",
   "metadata": {},
   "source": [
    "The json.loads() function is used to parse a string containing JSON data and convert it into a Python data structure. The loads() function stands for \"load string\" and takes a string as its argument."
   ]
  },
  {
   "cell_type": "markdown",
   "id": "27c2db78-8746-4cea-88ea-86a9efafe4ad",
   "metadata": {},
   "source": [
    "7. What function takes a Python data structure and returns a string of JSON data?"
   ]
  },
  {
   "cell_type": "markdown",
   "id": "6b1dbe1e-e1e1-4684-bef4-db95c541b8b0",
   "metadata": {},
   "source": [
    "The json.dumps() function is used to serialize a Python data structure into a JSON formatted string. The dumps() function stands for \"dump string\" and takes a Python object as its argument."
   ]
  }
 ],
 "metadata": {
  "kernelspec": {
   "display_name": "Python 3 (ipykernel)",
   "language": "python",
   "name": "python3"
  },
  "language_info": {
   "codemirror_mode": {
    "name": "ipython",
    "version": 3
   },
   "file_extension": ".py",
   "mimetype": "text/x-python",
   "name": "python",
   "nbconvert_exporter": "python",
   "pygments_lexer": "ipython3",
   "version": "3.10.6"
  }
 },
 "nbformat": 4,
 "nbformat_minor": 5
}
