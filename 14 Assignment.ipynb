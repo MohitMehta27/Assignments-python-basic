{
 "cells": [
  {
   "cell_type": "markdown",
   "id": "4d9ed016-85ee-419d-9115-afd28c6f3efa",
   "metadata": {},
   "source": [
    "1. What does RGBA stand for?"
   ]
  },
  {
   "cell_type": "markdown",
   "id": "26e2cb45-8510-4f5e-8537-c83f7448e7cd",
   "metadata": {},
   "source": [
    "RGBA stands for \"Red Green Blue Alpha."
   ]
  },
  {
   "cell_type": "markdown",
   "id": "e3e503c5-0547-46bd-8233-9ef879fa40e0",
   "metadata": {},
   "source": [
    "2. From the Pillow module, how do you get the RGBA value of any images?"
   ]
  },
  {
   "cell_type": "code",
   "execution_count": null,
   "id": "d24b4673-1270-4303-bbd4-e11c32f449aa",
   "metadata": {},
   "outputs": [],
   "source": [
    "#To get the RGBA (red, green, blue, alpha) value of any image using the Pillow module in Python, it can be done by using the getpixel() method of the Image object.\n",
    "from PIL import Image\n",
    "\n",
    "# Open the image\n",
    "image = Image.open('image.png')\n",
    "\n",
    "# Get the RGBA value of the pixel at position (x, y)\n",
    "rgba = image.getpixel((x, y))\n",
    "\n",
    "# Print the RGBA value\n",
    "print(rgba)\n"
   ]
  },
  {
   "cell_type": "markdown",
   "id": "d103c372-49d7-4843-a31a-90527d3cda06",
   "metadata": {},
   "source": [
    "3. What is a box tuple, and how does it work?"
   ]
  },
  {
   "cell_type": "markdown",
   "id": "7be422de-8059-4f26-8464-a4c22d785087",
   "metadata": {},
   "source": [
    "A box tuple is a tuple of four integers representing a rectangular region in an image. The four integers represent the left, upper, right, and lower coordinates of the rectangular region, respectively. The order of the integers in the tuple is (left, upper, right, lower).\n",
    "The box tuple works by defining the coordinates of the rectangular region in terms of pixels. The left coordinate represents the x-coordinate of the left edge of the rectangular region, while the upper coordinate represents the y-coordinate of the top edge of the rectangular region. Similarly, the right coordinate represents the x-coordinate of the right edge of the rectangular region, and the lower coordinate represents the y-coordinate of the bottom edge of the rectangular region."
   ]
  },
  {
   "cell_type": "markdown",
   "id": "8850caa6-4407-4d0e-a41d-56c8c1a004d8",
   "metadata": {},
   "source": [
    "4. Use your image and load in notebook then, How can you find out the width and height of an Image object?"
   ]
  },
  {
   "cell_type": "code",
   "execution_count": null,
   "id": "303d9a9c-b8af-4f31-a99d-2766dfe808cd",
   "metadata": {},
   "outputs": [],
   "source": [
    "from PIL import Image\n",
    "\n",
    "# Open the image\n",
    "image = Image.open('image.jpg')\n",
    "\n",
    "# Get the width and height of the image\n",
    "width, height = image.size\n",
    "\n",
    "# Print the width and height\n",
    "print(f\"Width: {width}\")\n",
    "print(f\"Height: {height}\")\n"
   ]
  },
  {
   "cell_type": "markdown",
   "id": "61c63090-983f-4350-855c-d0be08a25a1a",
   "metadata": {},
   "source": [
    "5. What method would you call to get Image object for a 100×100 image, excluding the lower-left quarter of it?"
   ]
  },
  {
   "cell_type": "code",
   "execution_count": null,
   "id": "64b70c84-8872-40f1-b34c-bfcbc0d40c99",
   "metadata": {},
   "outputs": [],
   "source": [
    "from PIL import Image\n",
    "\n",
    "# Open the image\n",
    "image = Image.open('image.jpg')\n",
    "\n",
    "# Crop the image to exclude the lower-left quarter\n",
    "cropped_image = image.crop((50, 0, 100, 50))\n",
    "\n",
    "# Display the cropped image\n",
    "cropped_image.show()\n"
   ]
  },
  {
   "cell_type": "markdown",
   "id": "1f62bdd4-c2ef-454b-97e1-af06fbf0b6d8",
   "metadata": {},
   "source": [
    "6. After making changes to an Image object, how could you save it as an image file?"
   ]
  },
  {
   "cell_type": "markdown",
   "id": "e9505261-cc34-496a-b7f7-79a5317dc756",
   "metadata": {},
   "source": [
    " It can be saved by using image.save (\"Modifed image\") function."
   ]
  },
  {
   "cell_type": "markdown",
   "id": "5d8d3105-3ed0-4482-a313-6f9d1670ef57",
   "metadata": {},
   "source": [
    "7. What module contains Pillow’s shape-drawing code?"
   ]
  },
  {
   "cell_type": "markdown",
   "id": "cbbde5e5-a11e-449d-83ea-59745f42e6bb",
   "metadata": {},
   "source": [
    "The shape-drawing code in the Pillow module is contained in the ImageDraw module. The ImageDraw module provides a number of methods for drawing shapes, lines, and text on an Image object."
   ]
  },
  {
   "cell_type": "markdown",
   "id": "e6aac2f1-9c58-4095-b175-417763384cfa",
   "metadata": {},
   "source": [
    "8. Image objects do not have drawing methods. What kind of object does? How do you get this kind of object?"
   ]
  },
  {
   "cell_type": "markdown",
   "id": "328f4b03-c340-4b0c-b78f-d8298e53cdf8",
   "metadata": {},
   "source": [
    "The ImageDraw module in the Pillow module provides objects with drawing methods for drawing on Image objects. To get an ImageDraw object, we can call the Draw() method of the ImageDraw module and pass an Image object as an argument. The Draw() method returns an ImageDraw object that we  use to draw shapes, lines, and text on the Image object."
   ]
  }
 ],
 "metadata": {
  "kernelspec": {
   "display_name": "Python 3 (ipykernel)",
   "language": "python",
   "name": "python3"
  },
  "language_info": {
   "codemirror_mode": {
    "name": "ipython",
    "version": 3
   },
   "file_extension": ".py",
   "mimetype": "text/x-python",
   "name": "python",
   "nbconvert_exporter": "python",
   "pygments_lexer": "ipython3",
   "version": "3.10.6"
  }
 },
 "nbformat": 4,
 "nbformat_minor": 5
}
