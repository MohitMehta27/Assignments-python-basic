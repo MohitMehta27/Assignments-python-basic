{
 "cells": [
  {
   "cell_type": "markdown",
   "id": "35153fc2-043c-4300-b173-e88095d25d2e",
   "metadata": {},
   "source": [
    "1. How many seconds are in an hour? Use the interactive interpreter as a calculator and multiply the number of seconds in a minute (60) by the number of minutes in an hour (also 60)."
   ]
  },
  {
   "cell_type": "code",
   "execution_count": 5,
   "id": "ae0cbde9-6535-4c9f-b3a8-637ff9800fef",
   "metadata": {},
   "outputs": [
    {
     "data": {
      "text/plain": [
       "3600"
      ]
     },
     "execution_count": 5,
     "metadata": {},
     "output_type": "execute_result"
    }
   ],
   "source": [
    "60 * 60\n"
   ]
  },
  {
   "cell_type": "markdown",
   "id": "849ba925-1bef-4dbc-9074-abd8d336322a",
   "metadata": {},
   "source": [
    "2. Assign the result from the previous task (seconds in an hour) to a variable called seconds_per_hour."
   ]
  },
  {
   "cell_type": "code",
   "execution_count": 4,
   "id": "8df26651-dc28-4268-8efc-846c99824f43",
   "metadata": {},
   "outputs": [
    {
     "name": "stdout",
     "output_type": "stream",
     "text": [
      "3600\n"
     ]
    }
   ],
   "source": [
    "seconds_per_hour = 60 * 60\n",
    "print (seconds_per_hour)\n"
   ]
  },
  {
   "cell_type": "markdown",
   "id": "733168b6-d766-453a-b51b-df803f31c4f8",
   "metadata": {},
   "source": [
    "3. How many seconds do you think there are in a day? Make use of the variables seconds per hour and minutes per hour."
   ]
  },
  {
   "cell_type": "code",
   "execution_count": 3,
   "id": "f5dc937d-5ca9-4882-89e6-c3befc65fe0f",
   "metadata": {},
   "outputs": [
    {
     "name": "stdout",
     "output_type": "stream",
     "text": [
      "86400\n"
     ]
    }
   ],
   "source": [
    "seconds_per_hour = 60 * 60\n",
    "minutes_per_hour = 60\n",
    "\n",
    "seconds_per_day = seconds_per_hour * 24\n",
    "print (seconds_per_day)\n"
   ]
  },
  {
   "cell_type": "markdown",
   "id": "4a81f2dd-be86-4379-a6bd-370321263d03",
   "metadata": {},
   "source": [
    "4. Calculate seconds per day again, but this time save the result in a variable called seconds_per_day"
   ]
  },
  {
   "cell_type": "code",
   "execution_count": 6,
   "id": "b2381952-233a-4aa4-af96-b2a283da5f3a",
   "metadata": {},
   "outputs": [
    {
     "name": "stdout",
     "output_type": "stream",
     "text": [
      "Seconds per day: 86400\n"
     ]
    }
   ],
   "source": [
    "seconds_per_hour = 60 * 60\n",
    "minutes_per_hour = 60\n",
    "\n",
    "hours_per_day = 24\n",
    "minutes_per_day = minutes_per_hour * hours_per_day\n",
    "seconds_per_day = seconds_per_hour * hours_per_day\n",
    "\n",
    "print(\"Seconds per day:\", seconds_per_day)\n"
   ]
  },
  {
   "cell_type": "markdown",
   "id": "f6553259-864e-4ccc-b981-7f066f9ce863",
   "metadata": {},
   "source": [
    "5. Divide seconds_per_day by seconds_per_hour. Use floating-point (/) division."
   ]
  },
  {
   "cell_type": "code",
   "execution_count": 7,
   "id": "62b1137a-1905-4d8c-ae5b-432f6ff80fd9",
   "metadata": {},
   "outputs": [
    {
     "name": "stdout",
     "output_type": "stream",
     "text": [
      "Ratio of seconds per day to seconds per hour: 24.0\n"
     ]
    }
   ],
   "source": [
    "seconds_per_hour = 60 * 60\n",
    "seconds_per_day = seconds_per_hour * 24\n",
    "\n",
    "ratio = seconds_per_day / seconds_per_hour\n",
    "print(\"Ratio of seconds per day to seconds per hour:\", ratio)\n"
   ]
  },
  {
   "cell_type": "markdown",
   "id": "2987dee3-41a5-401a-853a-8ad1aaf3c59e",
   "metadata": {},
   "source": [
    "6. Divide seconds_per_day by seconds_per_hour, using integer (//) division. Did this number agree with the floating-point value from the previous question, aside from the final .0?"
   ]
  },
  {
   "cell_type": "code",
   "execution_count": 8,
   "id": "c70d1c00-9da1-4361-ba4b-fed83a9237bb",
   "metadata": {},
   "outputs": [
    {
     "name": "stdout",
     "output_type": "stream",
     "text": [
      "Ratio of seconds per day to seconds per hour (integer division): 24\n"
     ]
    }
   ],
   "source": [
    "seconds_per_hour = 60 * 60\n",
    "seconds_per_day = seconds_per_hour * 24\n",
    "\n",
    "ratio = seconds_per_day // seconds_per_hour\n",
    "print(\"Ratio of seconds per day to seconds per hour (integer division):\", ratio)\n",
    "#Yes this number agrees with the floating point value from the previous question. "
   ]
  },
  {
   "cell_type": "markdown",
   "id": "a5c7e98d-481e-49ae-a8ce-d3569078c411",
   "metadata": {},
   "source": [
    "7. Write a generator, genPrimes, that returns the sequence of prime numbers on successive calls to its next() method: 2, 3, 5, 7, 11, ..."
   ]
  },
  {
   "cell_type": "code",
   "execution_count": 2,
   "id": "adc3cdd6-31b3-422b-ab3e-6629cecaf2c0",
   "metadata": {},
   "outputs": [],
   "source": [
    "def genPrimes():\n",
    "    \"\"\"\n",
    "    A generator that yields prime numbers on successive calls to its next() method.\n",
    "    \"\"\"\n",
    "    primes = [] \n",
    "    num = 2  \n",
    "    while True:\n",
    "        # check if num is prime\n",
    "        is_prime = True\n",
    "        for prime in primes:\n",
    "            if num % prime == 0:\n",
    "                is_prime = False\n",
    "                break\n",
    "            if prime * prime > num:  \n",
    "                break\n",
    "        if is_prime:\n",
    "            primes.append(num)\n",
    "            yield num\n",
    "        num += 1  \n"
   ]
  },
  {
   "cell_type": "code",
   "execution_count": null,
   "id": "d3ecd5da-d1b3-42a2-9174-02739657158c",
   "metadata": {},
   "outputs": [],
   "source": []
  }
 ],
 "metadata": {
  "kernelspec": {
   "display_name": "Python 3 (ipykernel)",
   "language": "python",
   "name": "python3"
  },
  "language_info": {
   "codemirror_mode": {
    "name": "ipython",
    "version": 3
   },
   "file_extension": ".py",
   "mimetype": "text/x-python",
   "name": "python",
   "nbconvert_exporter": "python",
   "pygments_lexer": "ipython3",
   "version": "3.10.6"
  }
 },
 "nbformat": 4,
 "nbformat_minor": 5
}
