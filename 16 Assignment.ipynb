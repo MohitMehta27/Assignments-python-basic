{
 "cells": [
  {
   "cell_type": "markdown",
   "id": "f3b5679c-9d5e-44f7-91e7-9f84a979677c",
   "metadata": {},
   "source": [
    "1. Create a list called years_list, starting with the year of your birth, and each year thereafter until the year of your fifth birthday. For example, if you were born in 1980. the list would be years_list = [1980, 1981, 1982, 1983, 1984, 1985]."
   ]
  },
  {
   "cell_type": "code",
   "execution_count": 2,
   "id": "ba4beeec-afb0-4d70-8f6e-78dd920c1cb6",
   "metadata": {},
   "outputs": [],
   "source": [
    "years_list = [1997, 1998, 1999, 2000, 2001, 2002]\n"
   ]
  },
  {
   "cell_type": "markdown",
   "id": "42cb1ef5-f94b-4e57-8a68-6d7b6f01dcc9",
   "metadata": {},
   "source": [
    "2. In which year in years_list was your third birthday? Remember, you were 0 years of age for your first year."
   ]
  },
  {
   "cell_type": "code",
   "execution_count": 5,
   "id": "39518ce1-5f34-424f-bbf3-91b8a3e8f93a",
   "metadata": {},
   "outputs": [
    {
     "data": {
      "text/plain": [
       "2000"
      ]
     },
     "execution_count": 5,
     "metadata": {},
     "output_type": "execute_result"
    }
   ],
   "source": [
    "years_list[3]"
   ]
  },
  {
   "cell_type": "markdown",
   "id": "6f584c47-06cb-4a3c-b4ee-48942d03aafc",
   "metadata": {},
   "source": [
    "3. In the years list, which year were you the oldest?"
   ]
  },
  {
   "cell_type": "code",
   "execution_count": 6,
   "id": "59eee8c0-b43e-40ad-b07a-9f329d619f7d",
   "metadata": {},
   "outputs": [
    {
     "data": {
      "text/plain": [
       "2002"
      ]
     },
     "execution_count": 6,
     "metadata": {},
     "output_type": "execute_result"
    }
   ],
   "source": [
    "years_list[5]"
   ]
  },
  {
   "cell_type": "markdown",
   "id": "e7fffd72-d7b2-45d8-9ffc-25ac10f315a7",
   "metadata": {},
   "source": [
    "4. Make a list called things with these three strings as elements: \"mozzarella\", \"cinderella\", \"salmonella\"."
   ]
  },
  {
   "cell_type": "code",
   "execution_count": 9,
   "id": "8789952c-485b-415a-bf80-11062f88d9e8",
   "metadata": {},
   "outputs": [],
   "source": [
    "things=[\"mozzarella\",\"cinderella\",\"salmonella\"]"
   ]
  },
  {
   "cell_type": "markdown",
   "id": "66e60de5-eb6f-450f-a411-4a50b84aec84",
   "metadata": {},
   "source": [
    "5. Capitalize the element in things that refers to a person and then print the list. Did it change the element in the list?"
   ]
  },
  {
   "cell_type": "code",
   "execution_count": 1,
   "id": "10c9ffdf-a790-4020-9f66-4972e7225c1b",
   "metadata": {},
   "outputs": [
    {
     "name": "stdout",
     "output_type": "stream",
     "text": [
      "['mozzarella', 'Cinderella', 'salmonella']\n"
     ]
    }
   ],
   "source": [
    "things = [\"mozzarella\", \"cinderella\", \"salmonella\"]\n",
    "things[1] = things[1].capitalize()\n",
    "print(things)\n",
    "# yes it changes the element in the list"
   ]
  },
  {
   "cell_type": "markdown",
   "id": "e1061011-fc98-40ba-ae98-d021dfc7426b",
   "metadata": {},
   "source": [
    "6. Make a surprise list with the elements \"Groucho,\" \"Chico,\" and \"Harpo.\""
   ]
  },
  {
   "cell_type": "code",
   "execution_count": 6,
   "id": "8076f9dd-5aa6-406f-8221-f9d5d33f35ca",
   "metadata": {},
   "outputs": [],
   "source": [
    "surprise=[\"Groucho\",\"Chico\",\"Harpo\"]"
   ]
  },
  {
   "cell_type": "markdown",
   "id": "ce8c109e-2867-4067-8ce0-e78e9267cc00",
   "metadata": {},
   "source": [
    "7. Lowercase the last element of the surprise list, reverse it, and then capitalize it."
   ]
  },
  {
   "cell_type": "code",
   "execution_count": 10,
   "id": "653bd9ad-fd18-46c3-9093-e1045fc7f3fb",
   "metadata": {},
   "outputs": [
    {
     "name": "stdout",
     "output_type": "stream",
     "text": [
      "['Groucho', 'Chico', 'Oprah']\n"
     ]
    }
   ],
   "source": [
    "surprise= [\"Groucho\", \"Chico\", \"Harpo\"]\n",
    "last_element = surprise_list[-1].lower()\n",
    "reversed_element = last_element[::-1]\n",
    "capitalized_element = reversed_element.capitalize()\n",
    "\n",
    "surprise[2]=capitalized_element\n",
    "print (surprise)"
   ]
  },
  {
   "cell_type": "markdown",
   "id": "4e23edb3-8982-4a2f-bbd3-b54ca92c15a0",
   "metadata": {},
   "source": [
    "8. Make an English-to-French dictionary called e2f and print it. Here are your starter words: dog is chien, cat is chat, and walrus is morse."
   ]
  },
  {
   "cell_type": "code",
   "execution_count": 4,
   "id": "414f1ad1-88d1-4216-876a-62d48d0fa800",
   "metadata": {},
   "outputs": [
    {
     "name": "stdout",
     "output_type": "stream",
     "text": [
      "{'dog': 'chien', 'cat': 'chat', 'walrus': 'morse'}\n"
     ]
    }
   ],
   "source": [
    "e2f={'dog':'chien','cat': 'chat','walrus':'morse'}\n",
    "print (e2f)     "
   ]
  },
  {
   "cell_type": "markdown",
   "id": "38c4bf2c-56fa-48ee-99fb-953037f8b829",
   "metadata": {},
   "source": [
    "9. Write the French word for walrus in your three-word dictionary e2f."
   ]
  },
  {
   "cell_type": "code",
   "execution_count": 5,
   "id": "2b67e777-f80e-4db3-97d9-3eafece582c0",
   "metadata": {},
   "outputs": [
    {
     "name": "stdout",
     "output_type": "stream",
     "text": [
      "morse\n"
     ]
    }
   ],
   "source": [
    "print(e2f['walrus'])"
   ]
  },
  {
   "cell_type": "markdown",
   "id": "b8fa3eec-aef2-467e-af56-5a7b845a869d",
   "metadata": {},
   "source": [
    "10. Make a French-to-English dictionary called f2e from e2f. Use the items method."
   ]
  },
  {
   "cell_type": "code",
   "execution_count": 6,
   "id": "01320f16-4ad7-43e3-94ad-a48b43d6da4e",
   "metadata": {},
   "outputs": [
    {
     "name": "stdout",
     "output_type": "stream",
     "text": [
      "{'chien': 'dog', 'chat': 'cat', 'morse': 'walrus'}\n"
     ]
    }
   ],
   "source": [
    "e2f = {'dog': 'chien', 'cat': 'chat', 'walrus': 'morse'}\n",
    "\n",
    "f2e = {}\n",
    "\n",
    "for english, french in e2f.items():\n",
    "    f2e[french] = english\n",
    "\n",
    "print(f2e)\n"
   ]
  },
  {
   "cell_type": "markdown",
   "id": "1653c03e-a0c1-4c08-9cbc-7b67ba9c0c70",
   "metadata": {},
   "source": [
    "11. Print the English version of the French word chien using f2e."
   ]
  },
  {
   "cell_type": "code",
   "execution_count": 7,
   "id": "d85d3100-41f2-4fad-9491-536d2cc73850",
   "metadata": {},
   "outputs": [
    {
     "name": "stdout",
     "output_type": "stream",
     "text": [
      "dog\n"
     ]
    }
   ],
   "source": [
    "print(f2e['chien'])"
   ]
  },
  {
   "cell_type": "markdown",
   "id": "9f7bd54c-6620-4069-9be8-f3f9a0c956ff",
   "metadata": {},
   "source": [
    "12. Make and print a set of English words from the keys in e2f."
   ]
  },
  {
   "cell_type": "code",
   "execution_count": 8,
   "id": "81b22e8b-6ef6-4fcc-b853-09f6c85df0c0",
   "metadata": {},
   "outputs": [
    {
     "name": "stdout",
     "output_type": "stream",
     "text": [
      "{'walrus', 'dog', 'cat'}\n"
     ]
    }
   ],
   "source": [
    "e2f = {'dog': 'chien', 'cat': 'chat', 'walrus': 'morse'}\n",
    "\n",
    "english_words = set(e2f.keys())\n",
    "\n",
    "print(english_words)\n"
   ]
  },
  {
   "cell_type": "markdown",
   "id": "136e7aad-547d-4a8b-b263-aaca7a532ca1",
   "metadata": {},
   "source": [
    "13. Make a multilevel dictionary called life. Use these strings for the topmost keys: 'animals', 'plants', and 'other'. Make the 'animals' key refer to another dictionary with the keys 'cats', 'octopi', and 'emus'. Make the 'cats' key refer to a list of strings with the values 'Henri', 'Grumpy', and 'Lucy'. Make all the other keys refer to empty dictionaries."
   ]
  },
  {
   "cell_type": "code",
   "execution_count": 9,
   "id": "f3268855-7c78-4a98-aec1-8eba7f86e4c6",
   "metadata": {},
   "outputs": [
    {
     "name": "stdout",
     "output_type": "stream",
     "text": [
      "{'animals': {'cats': ['Henri', 'Grumpy', 'Lucy'], 'octopi': {}, 'emus': {}}, 'plants': {}, 'other': {}}\n"
     ]
    }
   ],
   "source": [
    "life = {'animals': {'cats': ['Henri', 'Grumpy', 'Lucy'],\n",
    "                    'octopi': {},\n",
    "                    'emus': {}},\n",
    "        'plants': {},\n",
    "        'other': {}}\n",
    "\n",
    "print(life)\n"
   ]
  },
  {
   "cell_type": "markdown",
   "id": "3424f244-363c-4255-865a-a79584ff5157",
   "metadata": {},
   "source": [
    "14. Print the top-level keys of life."
   ]
  },
  {
   "cell_type": "code",
   "execution_count": 10,
   "id": "019a454e-2a5c-417c-be5e-feb99195e593",
   "metadata": {},
   "outputs": [
    {
     "name": "stdout",
     "output_type": "stream",
     "text": [
      "['animals', 'plants', 'other']\n"
     ]
    }
   ],
   "source": [
    "top_level_keys = list(life.keys())\n",
    "\n",
    "print(top_level_keys)"
   ]
  },
  {
   "cell_type": "markdown",
   "id": "839c4b9b-ea74-4346-a7d6-096990b74693",
   "metadata": {},
   "source": [
    "15. Print the keys for life['animals']."
   ]
  },
  {
   "cell_type": "code",
   "execution_count": 11,
   "id": "78fba14d-c51a-4b0b-938e-efc2b5d62616",
   "metadata": {},
   "outputs": [
    {
     "name": "stdout",
     "output_type": "stream",
     "text": [
      "['cats', 'octopi', 'emus']\n"
     ]
    }
   ],
   "source": [
    "animal_keys = list(life['animals'].keys())\n",
    "\n",
    "print(animal_keys)"
   ]
  },
  {
   "cell_type": "markdown",
   "id": "1c45afeb-b5e5-44c0-b500-7a4320d11714",
   "metadata": {},
   "source": [
    "16. Print the values for life['animals']['cats']"
   ]
  },
  {
   "cell_type": "code",
   "execution_count": 12,
   "id": "b8eea182-e95a-4bb9-a487-7b6f4139c9d0",
   "metadata": {},
   "outputs": [
    {
     "name": "stdout",
     "output_type": "stream",
     "text": [
      "['Henri', 'Grumpy', 'Lucy']\n"
     ]
    }
   ],
   "source": [
    "cat_names = life['animals']['cats']\n",
    "\n",
    "print(cat_names)"
   ]
  }
 ],
 "metadata": {
  "kernelspec": {
   "display_name": "Python 3 (ipykernel)",
   "language": "python",
   "name": "python3"
  },
  "language_info": {
   "codemirror_mode": {
    "name": "ipython",
    "version": 3
   },
   "file_extension": ".py",
   "mimetype": "text/x-python",
   "name": "python",
   "nbconvert_exporter": "python",
   "pygments_lexer": "ipython3",
   "version": "3.10.6"
  }
 },
 "nbformat": 4,
 "nbformat_minor": 5
}
