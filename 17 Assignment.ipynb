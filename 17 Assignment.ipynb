{
 "cells": [
  {
   "cell_type": "markdown",
   "id": "3a573e15-f98a-41a6-97d5-351dbb796cc9",
   "metadata": {},
   "source": [
    "1. Assign the value 7 to the variable guess_me. Then, write the conditional tests (if, else, and elif) to print the string 'too low' if guess_me is less than 7, 'too high' if greater than 7, and 'just right' if equal to 7."
   ]
  },
  {
   "cell_type": "code",
   "execution_count": 2,
   "id": "cbb59478-55d3-4322-831c-01b599f02931",
   "metadata": {},
   "outputs": [
    {
     "name": "stdout",
     "output_type": "stream",
     "text": [
      "just right\n"
     ]
    }
   ],
   "source": [
    "guess_me=7\n",
    "if guess_me<7:\n",
    "    print(\"too low\")\n",
    "elif guess_me>7:\n",
    "    print (\"too high\")\n",
    "else:\n",
    "    print (\"just right\")"
   ]
  },
  {
   "cell_type": "markdown",
   "id": "586dc71d-2e21-423d-b45d-e2096fa79927",
   "metadata": {},
   "source": [
    "2. Assign the value 7 to the variable guess_me and the value 1 to the variable start. Write a while loop that compares start with guess_me. Print too low if start is less than guess me. If start equals guess_me, print 'found it!' and exit the loop. If start is greater than guess_me, print 'oops' and exit the loop. Increment start at the end of the loop."
   ]
  },
  {
   "cell_type": "code",
   "execution_count": 4,
   "id": "0131e7c5-3e54-48ce-aa96-6ef33d2e8318",
   "metadata": {
    "tags": []
   },
   "outputs": [
    {
     "name": "stdout",
     "output_type": "stream",
     "text": [
      "too low\n",
      "too low\n",
      "too low\n",
      "too low\n",
      "too low\n",
      "too low\n",
      "found it\n"
     ]
    }
   ],
   "source": [
    "guess_me=7\n",
    "start=1\n",
    "while start<=guess_me:\n",
    "    if start< guess_me:\n",
    "        print(\"too low\")\n",
    "    elif start == guess_me:\n",
    "        print (\"found it\")\n",
    "    else:\n",
    "        print (\"oops\")\n",
    "        break\n",
    "    start +=1\n"
   ]
  },
  {
   "cell_type": "markdown",
   "id": "7bd6d6bb-16eb-4bc7-b840-893989040843",
   "metadata": {},
   "source": [
    "3. Print the following values of the list [3, 2, 1, 0] using a for loop."
   ]
  },
  {
   "cell_type": "code",
   "execution_count": 7,
   "id": "306b017c-b14f-4fb8-9a4e-d53ba4229289",
   "metadata": {},
   "outputs": [
    {
     "name": "stdout",
     "output_type": "stream",
     "text": [
      "3\n",
      "2\n",
      "1\n",
      "0\n"
     ]
    }
   ],
   "source": [
    "a = [3,2,1,0]\n",
    "for i in a:\n",
    "    print (i)"
   ]
  },
  {
   "cell_type": "markdown",
   "id": "e7181d06-81b5-4c5f-899c-45c2ab4ae5dc",
   "metadata": {},
   "source": [
    "4. Use a list comprehension to make a list of the even numbers in range(10)"
   ]
  },
  {
   "cell_type": "code",
   "execution_count": 8,
   "id": "0a4877db-6219-40fb-bba8-7445f945ec05",
   "metadata": {},
   "outputs": [
    {
     "name": "stdout",
     "output_type": "stream",
     "text": [
      "[0, 2, 4, 6, 8]\n"
     ]
    }
   ],
   "source": [
    "even_numbers = [num for num in range(10) if num % 2 == 0]\n",
    "print(even_numbers)\n"
   ]
  },
  {
   "cell_type": "markdown",
   "id": "6cd4cdd0-18e2-4924-a6b2-43ae10d4f1f3",
   "metadata": {},
   "source": [
    "5. Use a dictionary comprehension to create the dictionary squares. Use range(10) to return the keys, and use the square of each key as its value."
   ]
  },
  {
   "cell_type": "code",
   "execution_count": 9,
   "id": "e6dd8736-134b-4abc-a370-628f6fd2d356",
   "metadata": {},
   "outputs": [
    {
     "name": "stdout",
     "output_type": "stream",
     "text": [
      "{0: 0, 1: 1, 2: 4, 3: 9, 4: 16, 5: 25, 6: 36, 7: 49, 8: 64, 9: 81}\n"
     ]
    }
   ],
   "source": [
    "squares = {num: num**2 for num in range(10)}\n",
    "print(squares)\n"
   ]
  },
  {
   "cell_type": "markdown",
   "id": "984974a6-179d-4137-8d07-5b7fc97949c2",
   "metadata": {},
   "source": [
    "6. Construct the set odd from the odd numbers in the range using a set comprehension (10)."
   ]
  },
  {
   "cell_type": "code",
   "execution_count": 10,
   "id": "d45f9498-4491-4d1a-8281-36e3d1ffbe6e",
   "metadata": {},
   "outputs": [
    {
     "name": "stdout",
     "output_type": "stream",
     "text": [
      "{1, 3, 5, 7, 9}\n"
     ]
    }
   ],
   "source": [
    "odd = {num for num in range(10) if num % 2 == 1}\n",
    "print(odd)\n"
   ]
  },
  {
   "cell_type": "markdown",
   "id": "7d922e3e-7816-412c-b793-8bac47ceb9a6",
   "metadata": {},
   "source": [
    "7. Use a generator comprehension to return the string 'Got ' and a number for the numbers in range(10). Iterate through this by using a for loop."
   ]
  },
  {
   "cell_type": "code",
   "execution_count": 11,
   "id": "b5c35440-9b6c-4340-a41b-4b517d564a8f",
   "metadata": {},
   "outputs": [
    {
     "name": "stdout",
     "output_type": "stream",
     "text": [
      "Got 0\n",
      "Got 1\n",
      "Got 2\n",
      "Got 3\n",
      "Got 4\n",
      "Got 5\n",
      "Got 6\n",
      "Got 7\n",
      "Got 8\n",
      "Got 9\n"
     ]
    }
   ],
   "source": [
    "generator = ('Got ' + str(num) for num in range(10))\n",
    "for item in generator:\n",
    "    print(item)\n"
   ]
  },
  {
   "cell_type": "markdown",
   "id": "7c12de1e-5911-46c7-b34a-6f105da08444",
   "metadata": {},
   "source": [
    "8. Define a function called good that returns the list ['Harry', 'Ron', 'Hermione']."
   ]
  },
  {
   "cell_type": "code",
   "execution_count": 12,
   "id": "f027d074-1876-4bbc-af80-80d327164b74",
   "metadata": {},
   "outputs": [],
   "source": [
    "def good ():\n",
    "    ['Harry', 'Ron', 'Hermiobne']"
   ]
  },
  {
   "cell_type": "markdown",
   "id": "860e96b9-1186-440a-9dbe-a5d4e278c176",
   "metadata": {},
   "source": [
    "9. Define a generator function called get_odds that returns the odd numbers from range(10). Use a for loop to find and print the third value returned."
   ]
  },
  {
   "cell_type": "code",
   "execution_count": null,
   "id": "61f5f36e-961d-4649-ae34-5c1a29ca137a",
   "metadata": {},
   "outputs": [],
   "source": [
    "def get_odds():\n",
    "    for num in range(1, 10, 2):\n",
    "        yield num\n",
    "\n",
    "# Using a for loop to find and print the third value returned\n",
    "count = 1\n",
    "for num in get_odds():\n",
    "    if count == 3:\n",
    "        print(\"Third value returned:\", num)\n",
    "        break\n",
    "    count += 1\n"
   ]
  },
  {
   "cell_type": "markdown",
   "id": "ed5a7411-02ce-46ba-b814-2ebe7dc951e8",
   "metadata": {},
   "source": [
    "10. Define an exception called OopsException. Raise this exception to see what happens. Then write the code to catch this exception and print 'Caught an oops'."
   ]
  },
  {
   "cell_type": "code",
   "execution_count": 1,
   "id": "9d1e057a-21c8-4aef-9510-a16da2bd2824",
   "metadata": {},
   "outputs": [
    {
     "name": "stdout",
     "output_type": "stream",
     "text": [
      "Caught an oops\n"
     ]
    }
   ],
   "source": [
    "class OopsException(Exception):\n",
    "    pass\n",
    "\n",
    "try:\n",
    "    raise OopsException(\"Something went wrong!\")\n",
    "except OopsException:\n",
    "        print(\"Caught an oops\")\n"
   ]
  },
  {
   "cell_type": "markdown",
   "id": "a7795d00-21fe-4cce-8acb-68386bc26b19",
   "metadata": {},
   "source": [
    "11. Use zip() to make a dictionary called movies that pairs these lists: titles = ['Creature of Habit', 'Crewel Fate'] and plots = ['A nun turns into a monster', 'A haunted yarn shop']."
   ]
  },
  {
   "cell_type": "code",
   "execution_count": 2,
   "id": "54bdb550-2dfd-4cbf-9b1f-c1531254619a",
   "metadata": {},
   "outputs": [
    {
     "name": "stdout",
     "output_type": "stream",
     "text": [
      "{'Creature of Habit': 'A nun turns into a monster', 'Crewel Fate': 'A haunted yarn shop'}\n"
     ]
    }
   ],
   "source": [
    "titles = ['Creature of Habit', 'Crewel Fate']\n",
    "plots = ['A nun turns into a monster', 'A haunted yarn shop']\n",
    "movies = dict(zip(titles, plots))\n",
    "print(movies)\n"
   ]
  }
 ],
 "metadata": {
  "kernelspec": {
   "display_name": "Python 3 (ipykernel)",
   "language": "python",
   "name": "python3"
  },
  "language_info": {
   "codemirror_mode": {
    "name": "ipython",
    "version": 3
   },
   "file_extension": ".py",
   "mimetype": "text/x-python",
   "name": "python",
   "nbconvert_exporter": "python",
   "pygments_lexer": "ipython3",
   "version": "3.10.6"
  }
 },
 "nbformat": 4,
 "nbformat_minor": 5
}
