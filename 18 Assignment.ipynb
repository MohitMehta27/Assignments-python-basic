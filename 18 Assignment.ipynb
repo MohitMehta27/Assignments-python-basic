{
 "cells": [
  {
   "cell_type": "markdown",
   "id": "f688a0ff-0c24-4707-b3f0-ea9d65dc27c3",
   "metadata": {},
   "source": [
    "1. Create a zoo.py file first. Define the hours() function, which prints the string 'Open 9-5 daily'. Then, use the interactive interpreter to import the zoo module and call its hours() function."
   ]
  },
  {
   "cell_type": "code",
   "execution_count": 1,
   "id": "237ecb44-5726-4ac5-9b99-62cf1b6b3743",
   "metadata": {},
   "outputs": [],
   "source": [
    "with open('zoo.py', 'w') as f:\n",
    "    f.write(\"def hours():\\n\")\n",
    "    f.write(\"    print('Open 9-5 daily')\\n\")\n"
   ]
  },
  {
   "cell_type": "code",
   "execution_count": 2,
   "id": "4aa3d56c-2792-4e4b-bea7-794cdb56f4ee",
   "metadata": {},
   "outputs": [
    {
     "name": "stdout",
     "output_type": "stream",
     "text": [
      "Open 9-5 daily\n"
     ]
    }
   ],
   "source": [
    "import zoo\n",
    "zoo.hours()"
   ]
  },
  {
   "cell_type": "markdown",
   "id": "e1a5ab89-a2b3-4564-a4ad-ed48f6b12578",
   "metadata": {},
   "source": [
    "2. In the interactive interpreter, import the zoo module as menagerie and call its hours() function."
   ]
  },
  {
   "cell_type": "code",
   "execution_count": 3,
   "id": "97ce214a-0047-4c33-8848-f74f8c9ae275",
   "metadata": {},
   "outputs": [
    {
     "name": "stdout",
     "output_type": "stream",
     "text": [
      "Open 9-5 daily\n"
     ]
    }
   ],
   "source": [
    "import zoo as menagerie\n",
    "menagerie.hours()\n"
   ]
  },
  {
   "cell_type": "markdown",
   "id": "5199916f-2489-412d-bf34-db9a0ba29884",
   "metadata": {},
   "source": [
    "3. Using the interpreter, explicitly import and call the hours() function from zoo."
   ]
  },
  {
   "cell_type": "code",
   "execution_count": 4,
   "id": "bb82e18e-fd37-44bc-9e04-8a7352bd1992",
   "metadata": {},
   "outputs": [
    {
     "name": "stdout",
     "output_type": "stream",
     "text": [
      "Open 9-5 daily\n"
     ]
    }
   ],
   "source": [
    "from zoo import hours\n",
    "hours()\n"
   ]
  },
  {
   "cell_type": "markdown",
   "id": "f66c4bbc-160b-41a9-be4a-bb94f08659e7",
   "metadata": {},
   "source": [
    "4. Import the hours() function as info and call it."
   ]
  },
  {
   "cell_type": "code",
   "execution_count": 5,
   "id": "333ed949-6b59-4472-a8b6-16a68f7584b2",
   "metadata": {},
   "outputs": [
    {
     "name": "stdout",
     "output_type": "stream",
     "text": [
      "Open 9-5 daily\n"
     ]
    }
   ],
   "source": [
    "from zoo import hours as info\n",
    "\n",
    "info()\n"
   ]
  },
  {
   "cell_type": "markdown",
   "id": "a1edbb84-efc6-400a-b6b5-3bf311f8da04",
   "metadata": {},
   "source": [
    "5. Create a plain dictionary with the key-value pairs 'a': 1, 'b': 2, and 'c': 3, and print it out."
   ]
  },
  {
   "cell_type": "code",
   "execution_count": 6,
   "id": "b354bcfc-8f8d-46f6-8ac5-feb3525edce2",
   "metadata": {},
   "outputs": [
    {
     "name": "stdout",
     "output_type": "stream",
     "text": [
      "{'a': 1, 'b': 2, 'c': 3}\n"
     ]
    }
   ],
   "source": [
    "my_dict = {'a': 1, 'b': 2, 'c': 3}\n",
    "\n",
    "print(my_dict)\n"
   ]
  },
  {
   "cell_type": "markdown",
   "id": "e56ea7e9-756a-41d2-83a9-d500c88d38a4",
   "metadata": {},
   "source": [
    "6.Make an OrderedDict called fancy from the same pairs listed in 5 and print it. Did it print in the same order as plain?"
   ]
  },
  {
   "cell_type": "code",
   "execution_count": 7,
   "id": "791f0f1b-97f0-4e49-a949-b4c5facf6594",
   "metadata": {},
   "outputs": [
    {
     "name": "stdout",
     "output_type": "stream",
     "text": [
      "OrderedDict([('a', 1), ('b', 2), ('c', 3)])\n"
     ]
    }
   ],
   "source": [
    "from collections import OrderedDict\n",
    "\n",
    "fancy = OrderedDict([('a', 1), ('b', 2), ('c', 3)])\n",
    "\n",
    "print(fancy)\n"
   ]
  },
  {
   "cell_type": "markdown",
   "id": "4a8550bd-309f-4b72-9247-0bb5e61ac7a3",
   "metadata": {},
   "source": [
    "7. Make a default dictionary called dict_of_lists and pass it the argument list. Make the list dict_of_lists['a'] and append the value 'something for a' to it in one assignment. Print dict_of_lists['a']."
   ]
  },
  {
   "cell_type": "code",
   "execution_count": 8,
   "id": "ac9b41c8-255a-411a-a062-0a9bb7dfca34",
   "metadata": {},
   "outputs": [
    {
     "name": "stdout",
     "output_type": "stream",
     "text": [
      "['something for a']\n"
     ]
    }
   ],
   "source": [
    "from collections import defaultdict\n",
    "\n",
    "dict_of_lists = defaultdict(list)\n",
    "dict_of_lists['a'].append('something for a')\n",
    "\n",
    "print(dict_of_lists['a'])\n"
   ]
  }
 ],
 "metadata": {
  "kernelspec": {
   "display_name": "Python 3 (ipykernel)",
   "language": "python",
   "name": "python3"
  },
  "language_info": {
   "codemirror_mode": {
    "name": "ipython",
    "version": 3
   },
   "file_extension": ".py",
   "mimetype": "text/x-python",
   "name": "python",
   "nbconvert_exporter": "python",
   "pygments_lexer": "ipython3",
   "version": "3.10.6"
  }
 },
 "nbformat": 4,
 "nbformat_minor": 5
}
