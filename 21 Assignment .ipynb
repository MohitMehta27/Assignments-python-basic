{
 "cells": [
  {
   "cell_type": "markdown",
   "id": "af22e523-9b60-4040-9dea-fdb3d1ba6a73",
   "metadata": {},
   "source": [
    "1. Add the current date to the text file today.txt as a string."
   ]
  },
  {
   "cell_type": "code",
   "execution_count": 2,
   "id": "182fa853-5864-4b28-84c7-08969548fb96",
   "metadata": {},
   "outputs": [],
   "source": [
    "import datetime\n",
    "today=datetime.datetime.today().strftime(\"%d-%m-%Y\")\n",
    "with open(\"today.txt\",'a') as file:\n",
    "    file.write(today)"
   ]
  },
  {
   "cell_type": "markdown",
   "id": "af234b36-58e5-4c46-a42f-883eaefde84f",
   "metadata": {},
   "source": [
    "2. Read the text file today.txt into the string today_string"
   ]
  },
  {
   "cell_type": "code",
   "execution_count": 3,
   "id": "73604f26-ec16-4c5f-91e4-f396c233976f",
   "metadata": {},
   "outputs": [
    {
     "name": "stdout",
     "output_type": "stream",
     "text": [
      "03-05-2023\n"
     ]
    }
   ],
   "source": [
    "with open(\"today.txt\",'r') as file:\n",
    "    today_string=file.read()\n",
    "print (today_string)"
   ]
  },
  {
   "cell_type": "markdown",
   "id": "8c9d9d6f-32e1-4b4e-9fdf-239f85d54e90",
   "metadata": {},
   "source": [
    "3. Parse the date from today_string."
   ]
  },
  {
   "cell_type": "code",
   "execution_count": 2,
   "id": "c502e16a-6b1d-49fe-9700-3486764890ce",
   "metadata": {},
   "outputs": [
    {
     "name": "stdout",
     "output_type": "stream",
     "text": [
      "2023-05-03 00:00:00\n"
     ]
    }
   ],
   "source": [
    "import datetime\n",
    "\n",
    "with open('today.txt', 'r') as file:\n",
    "    today_string = file.read()\n",
    "date_obj = datetime.datetime.strptime(today_string.strip(), '%d-%m-%Y')\n",
    "\n",
    "print(date_obj)\n"
   ]
  },
  {
   "cell_type": "markdown",
   "id": "4f7cbc4a-6f6e-452a-ae82-3aee60dba93d",
   "metadata": {},
   "source": [
    "4. List the files in your current directory"
   ]
  },
  {
   "cell_type": "code",
   "execution_count": 8,
   "id": "222f848c-c178-446a-aa12-c60330c37d99",
   "metadata": {},
   "outputs": [
    {
     "data": {
      "text/plain": [
       "['10 Assignment.ipynb',\n",
       " '15 Assignment.ipynb',\n",
       " 'README.md',\n",
       " '19 Assignment.ipynb',\n",
       " '3 Assignment.ipynb',\n",
       " 'test.txt',\n",
       " 'sample-code.ipynb',\n",
       " 'zoo.py',\n",
       " '18 Assignment.ipynb',\n",
       " '.git',\n",
       " '8 Assignment.ipynb',\n",
       " '9 Assignment.ipynb',\n",
       " '11 Assignment.ipynb',\n",
       " '13 Assignment.ipynb',\n",
       " '20 Assignment.ipynb',\n",
       " '__pycache__',\n",
       " 'books.db',\n",
       " '16 Assignment.ipynb',\n",
       " '5 Assignment.ipynb',\n",
       " '.ipynb_checkpoints',\n",
       " '21 Assignment .ipynb',\n",
       " '7 Assignment.ipynb',\n",
       " '17 Assignment.ipynb',\n",
       " 'today.txt',\n",
       " '14 Assignment.ipynb',\n",
       " '6 Assignment.ipynb',\n",
       " '2 Assignment .ipynb',\n",
       " '12 Assignment.ipynb',\n",
       " 'books.csv',\n",
       " '4 Assignment.ipynb']"
      ]
     },
     "execution_count": 8,
     "metadata": {},
     "output_type": "execute_result"
    }
   ],
   "source": [
    "import os\n",
    "os.listdir('.')"
   ]
  },
  {
   "cell_type": "markdown",
   "id": "6e5a7c96-551c-489d-8772-1c0ffc52b8e4",
   "metadata": {},
   "source": [
    "5. Create a list of all of the files in your parent directory (minimum five files should be available)."
   ]
  },
  {
   "cell_type": "code",
   "execution_count": 9,
   "id": "4218b7da-ec29-4535-b61b-28143ac5c2cb",
   "metadata": {},
   "outputs": [
    {
     "name": "stdout",
     "output_type": "stream",
     "text": [
      "'10 Assignment.ipynb'  '20 Assignment.ipynb'    books.csv\n",
      "'11 Assignment.ipynb'  '21 Assignment .ipynb'   books.db\n",
      "'12 Assignment.ipynb'  '2 Assignment .ipynb'    \u001b[0m\u001b[01;34m__pycache__\u001b[0m/\n",
      "'13 Assignment.ipynb'  '3 Assignment.ipynb'     README.md\n",
      "'14 Assignment.ipynb'  '4 Assignment.ipynb'     sample-code.ipynb\n",
      "'15 Assignment.ipynb'  '5 Assignment.ipynb'     test.txt\n",
      "'16 Assignment.ipynb'  '6 Assignment.ipynb'     today.txt\n",
      "'17 Assignment.ipynb'  '7 Assignment.ipynb'     zoo.py\n",
      "'18 Assignment.ipynb'  '8 Assignment.ipynb'\n",
      "'19 Assignment.ipynb'  '9 Assignment.ipynb'\n"
     ]
    }
   ],
   "source": [
    "ls"
   ]
  },
  {
   "cell_type": "markdown",
   "id": "ace3aec7-f160-4efc-8ca7-2880d43a6b76",
   "metadata": {},
   "source": [
    "6. Use multiprocessing to create three separate processes. Make each one wait a random number of seconds between one and five, print the current time, and then exit."
   ]
  },
  {
   "cell_type": "code",
   "execution_count": 1,
   "id": "d1fc021e-4eb0-4308-b9f4-a399c4efcf11",
   "metadata": {},
   "outputs": [
    {
     "name": "stdout",
     "output_type": "stream",
     "text": [
      "wait 0.046742528613239465 seconds, time is 2023-05-04 07:55:50.264723\n",
      "wait 0.4345540426047484 seconds, time is 2023-05-04 07:55:50.696405\n",
      "wait 0.5741233338002658 seconds, time is 2023-05-04 07:55:50.796916\n"
     ]
    }
   ],
   "source": [
    "import multiprocessing\n",
    "\n",
    "def printsec(seconds):\n",
    "    from datetime import datetime\n",
    "    from time import sleep\n",
    "    sleep(seconds)\n",
    "    print('wait', seconds, 'seconds, time is', datetime.utcnow())\n",
    "    \n",
    "if __name__ == '__main__':\n",
    "    import random    \n",
    "    for n in range(3):\n",
    "        seconds = random.random()\n",
    "        proc = multiprocessing.Process(target=printsec, args=(seconds,))\n",
    "        proc.start()\n",
    "     "
   ]
  },
  {
   "cell_type": "markdown",
   "id": "6da56ec5-346e-40b6-ae30-89250c6bb368",
   "metadata": {},
   "source": [
    "7. Create a date object of your day of birth."
   ]
  },
  {
   "cell_type": "code",
   "execution_count": 7,
   "id": "587f094d-3eff-43ec-bd9b-32ad8f146ecc",
   "metadata": {},
   "outputs": [
    {
     "name": "stdout",
     "output_type": "stream",
     "text": [
      "1997-10-27\n"
     ]
    }
   ],
   "source": [
    "from datetime import date\n",
    "dob=date(1997,10,27)\n",
    "print (dob)"
   ]
  },
  {
   "cell_type": "markdown",
   "id": "bb7cd5ad-b596-44b3-a932-a99226427a0e",
   "metadata": {},
   "source": [
    "8. What day of the week was your day of birth?"
   ]
  },
  {
   "cell_type": "code",
   "execution_count": 12,
   "id": "4aeb98cd-dd40-4d25-bd46-add930235199",
   "metadata": {},
   "outputs": [
    {
     "name": "stdout",
     "output_type": "stream",
     "text": [
      "Monday\n"
     ]
    }
   ],
   "source": [
    "day_of_week=dob.strftime(\"%A\")\n",
    "print(day_of_week)"
   ]
  },
  {
   "cell_type": "markdown",
   "id": "622194b0-8bdb-45ab-87d9-da57ecabfa2b",
   "metadata": {},
   "source": [
    "9. When will you be (or when were you) 10,000 days old?"
   ]
  },
  {
   "cell_type": "code",
   "execution_count": 15,
   "id": "8fbb74a8-84c1-4006-a1e7-c8bbfee538cd",
   "metadata": {},
   "outputs": [
    {
     "name": "stdout",
     "output_type": "stream",
     "text": [
      "2025-03-14\n"
     ]
    }
   ],
   "source": [
    "from datetime import timedelta\n",
    "day10000 = dob + timedelta(days=10000)\n",
    "print (day10000)"
   ]
  }
 ],
 "metadata": {
  "kernelspec": {
   "display_name": "Python 3 (ipykernel)",
   "language": "python",
   "name": "python3"
  },
  "language_info": {
   "codemirror_mode": {
    "name": "ipython",
    "version": 3
   },
   "file_extension": ".py",
   "mimetype": "text/x-python",
   "name": "python",
   "nbconvert_exporter": "python",
   "pygments_lexer": "ipython3",
   "version": "3.10.6"
  }
 },
 "nbformat": 4,
 "nbformat_minor": 5
}
