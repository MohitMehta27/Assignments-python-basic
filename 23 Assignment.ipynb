{
 "cells": [
  {
   "cell_type": "markdown",
   "id": "605f4d91-084d-40f3-bb45-335cd3e78a1a",
   "metadata": {},
   "source": [
    "1. What is the result of the code, and why?\n",
    ">>> def func(a, b=6, c=8):\n",
    "print(a, b, c)\n",
    ">>> func(1, 2)\n"
   ]
  },
  {
   "cell_type": "code",
   "execution_count": 1,
   "id": "3d33234a-7d18-4477-a4c2-ba2571d78b22",
   "metadata": {},
   "outputs": [
    {
     "name": "stdout",
     "output_type": "stream",
     "text": [
      "1 2 8\n"
     ]
    }
   ],
   "source": [
    "def func(a, b=6, c=8):\n",
    "    print(a, b, c)\n",
    "func(1, 2)\n",
    "#This funtion is taking a positional argument and 2 keyward argument but the parameter passed are only 2 so it will take the value of c as 8by default as its keyword argument and the result will be 1 2 8"
   ]
  },
  {
   "cell_type": "markdown",
   "id": "ca48265a-28bc-41d0-babe-4e0e35e7513f",
   "metadata": {},
   "source": [
    "2. What is the result of this code, and why?\n",
    ">>> def func(a, b, c=5):\n",
    "print(a, b, c)\n",
    ">>> func(1, c=3, b=2)\n"
   ]
  },
  {
   "cell_type": "code",
   "execution_count": 2,
   "id": "31de7c11-3b22-4597-b546-3d101e40a780",
   "metadata": {},
   "outputs": [
    {
     "name": "stdout",
     "output_type": "stream",
     "text": [
      "1 2 3\n"
     ]
    }
   ],
   "source": [
    "def func(a, b, c=5):\n",
    "    print(a, b, c)\n",
    "func(1, c=3, b=2)\n",
    "# When we make function call, order will be positional argument and then keywords arguments. We can pass the keyword arguments in any order we want and value can also be re asssigned and this will show the new assigned values. Hence the result will be 1 2 3"
   ]
  },
  {
   "cell_type": "markdown",
   "id": "342444b8-7ece-4e44-bf28-2e8d577789d0",
   "metadata": {},
   "source": [
    "3. How about this code: what is its result, and why?\n",
    ">>> def func(a, *pargs):\n",
    "print(a, pargs)\n",
    ">>> func(1, 2, 3)\n"
   ]
  },
  {
   "cell_type": "code",
   "execution_count": 3,
   "id": "e9c755ac-de33-4b88-be63-e79ec56648fa",
   "metadata": {},
   "outputs": [
    {
     "name": "stdout",
     "output_type": "stream",
     "text": [
      "1 (2, 3)\n"
     ]
    }
   ],
   "source": [
    "def func(a, *pargs):\n",
    "    print(a, pargs)\n",
    "func(1, 2, 3)\n",
    "# *pargs returns the tuple so the answer will be 1 (2,3)"
   ]
  },
  {
   "cell_type": "markdown",
   "id": "1a4f9ff9-cccd-430b-80d5-5b796551dfa8",
   "metadata": {},
   "source": [
    "4. What does this code print, and why?\n",
    ">>> def func(a, **kargs):\n",
    "print(a, kargs)\n",
    ">>> func(a=1, c=3, b=2)\n"
   ]
  },
  {
   "cell_type": "code",
   "execution_count": 4,
   "id": "423cc5ea-d259-4000-bcfc-29a8b7b01ffa",
   "metadata": {},
   "outputs": [
    {
     "name": "stdout",
     "output_type": "stream",
     "text": [
      "1 {'c': 3, 'b': 2}\n"
     ]
    }
   ],
   "source": [
    "def func(a, **kargs):\n",
    "    print(a, kargs)\n",
    "func(a=1, c=3, b=2)\n",
    "#*kargs return the value as key and values. Hence the result will be 1 {'c':3,'b':2}\n"
   ]
  },
  {
   "cell_type": "markdown",
   "id": "cad62821-e261-4075-a77d-39bb7b2d325e",
   "metadata": {},
   "source": [
    "5. What gets printed by this, and explain?\n",
    ">>> def func(a, b, c=8, d=5): print(a, b, c, d)\n",
    ">>> func(1, *(5, 6))\n"
   ]
  },
  {
   "cell_type": "code",
   "execution_count": 1,
   "id": "07e14627-34e2-41b9-8a96-cf5ef7838663",
   "metadata": {},
   "outputs": [
    {
     "name": "stdout",
     "output_type": "stream",
     "text": [
      "1 5 6 5\n"
     ]
    }
   ],
   "source": [
    "#When this code is executed, the func function is called with the arguments 1, *(5, 6).The *(5, 6) syntax is used to unpack the tuple (5, 6) into two separate arguments 5 and 6. So the function call is equivalent to func(1, 5, 6).\n",
    "def func(a, b, c=8, d=5): \n",
    "    print(a, b, c, d)\n",
    "func(1, *(5, 6))\n",
    "#So, the solution of this will be 1 5 6 5 "
   ]
  },
  {
   "cell_type": "markdown",
   "id": "7135ac50-01dd-42b3-9f1c-ed12eb0c14b3",
   "metadata": {},
   "source": [
    "6. what is the result of this, and explain?\n",
    ">>> def func(a, b, c): a = 2; b[0] = 'x'; c['a'] = 'y'\n",
    ">>> l=1; m=[1]; n={'a':0}\n",
    ">>> func(l, m, n)\n"
   ]
  },
  {
   "cell_type": "code",
   "execution_count": 2,
   "id": "ac989a28-8894-47c7-8ec6-61a7b6f054d7",
   "metadata": {},
   "outputs": [
    {
     "data": {
      "text/plain": [
       "(1, ['x'], {'a': 'y'})"
      ]
     },
     "execution_count": 2,
     "metadata": {},
     "output_type": "execute_result"
    }
   ],
   "source": [
    "def func(a, b, c): \n",
    "    a = 2; b[0] = 'x'; c['a'] = 'y'\n",
    "    \n",
    "l=1; m=[1]; n={'a':0}\n",
    "func(l, m, n)\n",
    "\n",
    "l, m, n\n",
    "#In this the a is integer, b is list and c is the dictionary. And also c and n hare same meomry location so the answer of this code will be (1, ['x'], {'a': 'y'})"
   ]
  }
 ],
 "metadata": {
  "kernelspec": {
   "display_name": "Python 3 (ipykernel)",
   "language": "python",
   "name": "python3"
  },
  "language_info": {
   "codemirror_mode": {
    "name": "ipython",
    "version": 3
   },
   "file_extension": ".py",
   "mimetype": "text/x-python",
   "name": "python",
   "nbconvert_exporter": "python",
   "pygments_lexer": "ipython3",
   "version": "3.10.6"
  }
 },
 "nbformat": 4,
 "nbformat_minor": 5
}
