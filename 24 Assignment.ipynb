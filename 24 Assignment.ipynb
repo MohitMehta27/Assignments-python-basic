{
 "cells": [
  {
   "cell_type": "markdown",
   "id": "e40ae542-934d-4e2d-9e7f-0ed58df0918b",
   "metadata": {},
   "source": [
    "1. What is the relationship between def statements and lambda expressions ?"
   ]
  },
  {
   "cell_type": "markdown",
   "id": "0fee2db2-16e0-4f0b-a93c-2a5e74cddc77",
   "metadata": {},
   "source": [
    "The main difference between def statements and lambda expressions is that def statements are used to create named functions, while lambda expressions are used to create anonymous functions."
   ]
  },
  {
   "cell_type": "markdown",
   "id": "13371aeb-434c-4352-b9d9-0c8ef3e83ee2",
   "metadata": {},
   "source": [
    "2. What is the benefit of lambda?"
   ]
  },
  {
   "cell_type": "markdown",
   "id": "2f7af1bd-5a78-44af-97de-cfd41eec08ac",
   "metadata": {},
   "source": [
    "Lamda make the code less complex and short"
   ]
  },
  {
   "cell_type": "markdown",
   "id": "ca11adcd-d8d8-4f64-96f3-cb6b55c30709",
   "metadata": {},
   "source": [
    "3. Compare and contrast map, filter, and reduce."
   ]
  },
  {
   "cell_type": "code",
   "execution_count": null,
   "id": "74174707-c028-4fb3-9e69-e2cd7ee12c96",
   "metadata": {},
   "outputs": [],
   "source": [
    "#map() is used to apply a function to each element of an iterable, filter() is used to filter the elements of an iterable based on a function, and reduce() is used to reduce an iterable to a single value using a function.\n",
    "# map\n",
    "list1 = [1, 2, 3, 4, 5]\n",
    "result = map(lambda x: x * 2, list1)\n",
    "print(list(result))  # [2, 4, 6, 8, 10]\n",
    "#filter\n",
    "list1 = [1, 2, 3, 4, 5]\n",
    "result = filter(lambda x: x % 2 == 0, list1)\n",
    "print(list(result))  # [2, 4]\n",
    "# reducing \n",
    "from functools import reduce\n",
    "list1 = [1, 2, 3, 4, 5]\n",
    "result = reduce(lambda x, y: x + y, list1)\n",
    "print(result)  # 15\n",
    "\n"
   ]
  },
  {
   "cell_type": "markdown",
   "id": "bd6b18d6-42b6-48cc-b3f9-adbf97043a77",
   "metadata": {},
   "source": [
    "4. What are function annotations, and how are they used?"
   ]
  },
  {
   "cell_type": "markdown",
   "id": "71dadf2e-dc9a-4854-9f42-558dd96772ad",
   "metadata": {},
   "source": [
    "Function annotations are a feature that allow developers to add metadata to function arguments and return values. These annotations are optional and don't affect the runtime behavior of a Python program, but they provide a way to document the expected types of function arguments and return values."
   ]
  },
  {
   "cell_type": "markdown",
   "id": "cb8b171a-a74a-4a0e-85c7-040c0af0845f",
   "metadata": {},
   "source": [
    "5. What are recursive functions, and how are they used?"
   ]
  },
  {
   "cell_type": "markdown",
   "id": "134c873e-319b-42a1-b677-2973d991a298",
   "metadata": {},
   "source": [
    "A recursive function is a function that calls itself within its own definition. Recursive functions are used when we want to perform the same action repeatedly until a certain condition is met. The process of repeatedly calling the same function is called recursion."
   ]
  },
  {
   "cell_type": "markdown",
   "id": "af92b187-9b8d-43f7-a884-b32c8a8b8896",
   "metadata": {},
   "source": [
    "6. What are some general design guidelines for coding functions?"
   ]
  },
  {
   "cell_type": "markdown",
   "id": "2d507819-ac75-4382-b4d7-bf6f706d1c6a",
   "metadata": {},
   "source": [
    "Use 4-space indentation and no tabs.\n",
    "Use docstrings\n",
    "Wrap linethat they don’t exceed 79 characters\n",
    "Use of regular and updated comments are valuable to both the coders and users\n",
    "Use of trailing commas : in case of tuple -> ('good',)\n",
    "Use Python’s default UTF-8 or ASCII encodings and not any fancy encodings\n",
    "Naming Conventions\n",
    "Use logging \n",
    "Use exception handling"
   ]
  },
  {
   "cell_type": "markdown",
   "id": "03ac2a01-1ef2-44f4-8cdb-746057412837",
   "metadata": {},
   "source": [
    "7. Name three or more ways that functions can communicate results to a caller."
   ]
  },
  {
   "cell_type": "markdown",
   "id": "bfa72992-9c8b-4cc1-a0d2-6f77ea1c1b46",
   "metadata": {},
   "source": [
    "Function can return single value\n",
    "It can return multiple values, tuple\n",
    "It can return list,dictionary\n",
    "It can return function object\n",
    "It can return class object"
   ]
  }
 ],
 "metadata": {
  "kernelspec": {
   "display_name": "Python 3 (ipykernel)",
   "language": "python",
   "name": "python3"
  },
  "language_info": {
   "codemirror_mode": {
    "name": "ipython",
    "version": 3
   },
   "file_extension": ".py",
   "mimetype": "text/x-python",
   "name": "python",
   "nbconvert_exporter": "python",
   "pygments_lexer": "ipython3",
   "version": "3.10.6"
  }
 },
 "nbformat": 4,
 "nbformat_minor": 5
}
