{
 "cells": [
  {
   "cell_type": "markdown",
   "id": "39e12b3c-57cc-4481-9170-9525b46ffb94",
   "metadata": {},
   "source": [
    "1) . What is the difference between enclosing a list comprehension in square brackets and parentheses?"
   ]
  },
  {
   "cell_type": "markdown",
   "id": "dc78440b-0463-45af-bbb3-aa5e92068054",
   "metadata": {},
   "source": [
    "Enclosing a list comprehension in square brackets [] produces a list, while enclosing it in parentheses () produces a generator object."
   ]
  },
  {
   "cell_type": "markdown",
   "id": "33824d0f-b95c-4665-ad26-09c83ae4855a",
   "metadata": {},
   "source": [
    "2) What is the relationship between generators and iterators?"
   ]
  },
  {
   "cell_type": "markdown",
   "id": "ecae6464-e496-4793-b067-0d896d80a13c",
   "metadata": {},
   "source": [
    "An iterator is any object that implements the iterator protocol, which consists of the __iter__ and __next__ methods. The __iter__ method returns the iterator object itself, and the __next__ method returns the next value from the iterator or raises the StopIteration exception if there are no more values.\n",
    "\n",
    "A generator, on the other hand, is a special type of iterator that is defined using a generator function. A generator function is a function that contains the yield keyword, which is used to define a sequence of values that are generated on-the-fly each time the __next__ method is called on the generator object."
   ]
  },
  {
   "cell_type": "markdown",
   "id": "3361b3f2-faf4-4ef3-a9ef-6c30081d59be",
   "metadata": {},
   "source": [
    "3) What are the signs that a function is a generator function?"
   ]
  },
  {
   "cell_type": "markdown",
   "id": "2a053794-19eb-432a-87ad-ef5ef943821f",
   "metadata": {},
   "source": [
    "A generator function is defined using the def keyword, like any other function. However, instead of returning a value using the return keyword, a generator function generates a sequence of values using the yield keyword. So, if yield is used  that means it is generator function."
   ]
  },
  {
   "cell_type": "markdown",
   "id": "05bef782-9b1b-4ea1-8960-c1ca4a3655e0",
   "metadata": {},
   "source": [
    "4) What is the purpose of a yield statement?"
   ]
  },
  {
   "cell_type": "markdown",
   "id": "8647e80c-d446-494b-84c2-39ce0859081e",
   "metadata": {},
   "source": [
    "A yield statement looks much like a return statement, except that instead of stopping execution of the function and\n",
    "returning, yield instead provides a value to the code looping over the generator and pauses execution of the generator function"
   ]
  },
  {
   "cell_type": "markdown",
   "id": "f02257fd-e3ae-48ed-842b-3aac30eb066e",
   "metadata": {},
   "source": [
    "5) What is the relationship between map calls and list comprehensions? Make a comparison and contrast between the two."
   ]
  },
  {
   "cell_type": "markdown",
   "id": "31251719-b033-4c7f-ae26-fa6a805a193b",
   "metadata": {},
   "source": [
    "map is a built-in Python function that takes two arguments: a function and an iterable. The function is applied to each element in the iterable, and the result is a new iterable with the same length as the original iterable, but with the function applied to each element. The result is a map object, which is an iterator that generates the values on-the-fly.List comprehensions, on the other hand, are a Python syntax feature that allow you to create a new list from an existing iterable using a concise and readable syntax. List comprehensions use square brackets [] to indicate that a new list is being created, and they use a for loop to iterate over the existing iterable and a condition (if desired) to filter the elements."
   ]
  }
 ],
 "metadata": {
  "kernelspec": {
   "display_name": "Python 3 (ipykernel)",
   "language": "python",
   "name": "python3"
  },
  "language_info": {
   "codemirror_mode": {
    "name": "ipython",
    "version": 3
   },
   "file_extension": ".py",
   "mimetype": "text/x-python",
   "name": "python",
   "nbconvert_exporter": "python",
   "pygments_lexer": "ipython3",
   "version": "3.10.6"
  }
 },
 "nbformat": 4,
 "nbformat_minor": 5
}
