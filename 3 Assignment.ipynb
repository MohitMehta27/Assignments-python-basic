{
 "cells": [
  {
   "cell_type": "markdown",
   "id": "b39dbb98-74d1-4334-a2ec-2cfccb072999",
   "metadata": {},
   "source": [
    "1. Why are functions advantageous to have in your programs?"
   ]
  },
  {
   "cell_type": "markdown",
   "id": "e1cdb350-0951-4100-a789-fb132a505fac",
   "metadata": {},
   "source": [
    "The functions are advantageous is following ways:\n",
    "1. reusability of code: it helps the user to avoid writing same codes again and again\n",
    "2. readability: functions can help to break down the complex tasks into the smaller and make the code easier to understand and maintain\n",
    "3. debugging: if the code is organized in functions it is more easy for the user to locate the source of the problem. \n"
   ]
  },
  {
   "cell_type": "markdown",
   "id": "ef366457-4633-4196-b29a-d340cfe31ae4",
   "metadata": {},
   "source": [
    "2. When does the code in a function run: when it's specified or when it's called?"
   ]
  },
  {
   "cell_type": "markdown",
   "id": "46073b95-e6f7-4e7c-af5e-2b67aeecf5d0",
   "metadata": {},
   "source": [
    "the function is exceuted only when the function is called"
   ]
  },
  {
   "cell_type": "markdown",
   "id": "448a9374-d01c-4d1d-9a15-be10d9584f31",
   "metadata": {},
   "source": [
    "3. What statement creates a function?"
   ]
  },
  {
   "cell_type": "markdown",
   "id": "4514bae2-156b-4c1e-aaf8-14854c430a02",
   "metadata": {},
   "source": [
    "The 'def' statement is used to create a function in python. \n",
    "the general syntax for creating function is:\n",
    "def function_name (parameters):\n",
    "    return values"
   ]
  },
  {
   "cell_type": "markdown",
   "id": "4ac96e4c-c215-434b-a72f-35cd41d62682",
   "metadata": {},
   "source": [
    "4. What is the difference between a function and a function call?"
   ]
  },
  {
   "cell_type": "markdown",
   "id": "500d008f-a054-4bae-aba8-6a374089b761",
   "metadata": {},
   "source": [
    "function is a block of call that perform specific operations and return the values where on the other hand s function call is the code used to pass control to a function. \n",
    "for example:\n",
    "function:\n",
    "Function add(a,b)\n",
    "return a+ b\n",
    "function call:\n",
    "a=add(5,6)\n",
    "the value of a will be 11"
   ]
  },
  {
   "cell_type": "markdown",
   "id": "99cce8c0-8e23-4c52-a9fc-d125cdf568eb",
   "metadata": {},
   "source": [
    "5. How many global scopes are there in a Python program? How many local scopes?"
   ]
  },
  {
   "cell_type": "markdown",
   "id": "af716bda-9b8c-4225-981a-cbfbc8083acd",
   "metadata": {},
   "source": [
    "there can be multiple global and local scope in python. A global scope is created when a program startsand is the outer most scope of the program. it include all the variables and functions that are defined outside the function or class. on the other hand local scope is created everytime a function is called and is destroyed when the function is called."
   ]
  },
  {
   "cell_type": "markdown",
   "id": "33e5caa7-a866-4396-b492-161692ec5b15",
   "metadata": {},
   "source": [
    "6. What happens to variables in a local scope when the function call returns?"
   ]
  },
  {
   "cell_type": "markdown",
   "id": "85dae1cf-2944-4166-99cc-e016e8be21f0",
   "metadata": {},
   "source": [
    "when a function call return in python the local scope of the fucntion is destroyed and variables that were defined within that scope are deleted"
   ]
  },
  {
   "cell_type": "markdown",
   "id": "a6a1d2c4-ce77-4a0f-8036-a8ff8c46475e",
   "metadata": {},
   "source": [
    "7. What is the concept of a return value? Is it possible to have a return value in an expression?"
   ]
  },
  {
   "cell_type": "markdown",
   "id": "1afdd569-c16c-410c-949f-5f3271cf7863",
   "metadata": {},
   "source": [
    "A return value is the value that a function or method returns to the caller after completing its execution. The return value can be of any data type, including integer, floating-point, string, list, tuple, dictionary, or even another function or object. It is possible to have a return value in an expression. In Python, you can use the return value of a function or method directly in an expression"
   ]
  },
  {
   "cell_type": "markdown",
   "id": "6635cdab-1873-4adb-ac57-0b9d401373f4",
   "metadata": {},
   "source": [
    "8. If a function does not have a return statement, what is the return value of a call to that function?"
   ]
  },
  {
   "cell_type": "markdown",
   "id": "c04f9a96-651b-4e29-97e1-2d226b2fd40b",
   "metadata": {},
   "source": [
    "a function that does not have a return statement implicitly returns None at the end of the function."
   ]
  },
  {
   "cell_type": "markdown",
   "id": "bec19e98-f494-4d7e-81bc-bf605152b4e2",
   "metadata": {},
   "source": [
    "9. How do you make a function variable refer to the global variable?"
   ]
  },
  {
   "cell_type": "markdown",
   "id": "6ce79e74-b544-4718-97f6-8fe5fbd0d49d",
   "metadata": {},
   "source": [
    "A function variable refer to a global variable by using the 'global' keyword inside the function. The global keyword tells Python that the variable being referenced is a global variable, not a local variable."
   ]
  },
  {
   "cell_type": "markdown",
   "id": "3b5e5f83-7f2e-4ec2-96b6-e9b0e60403ed",
   "metadata": {},
   "source": [
    "10. What is the data type of None?"
   ]
  },
  {
   "cell_type": "code",
   "execution_count": 1,
   "id": "3f6410d5-da93-4971-bfba-d85c00a150d5",
   "metadata": {},
   "outputs": [
    {
     "name": "stdout",
     "output_type": "stream",
     "text": [
      "<class 'NoneType'>\n"
     ]
    }
   ],
   "source": [
    "#It will show NoneType\n",
    "print (type(None))"
   ]
  },
  {
   "cell_type": "markdown",
   "id": "39a47ebb-8ca4-4e4a-b586-7cb43fbdd7c9",
   "metadata": {},
   "source": [
    "11. What does the sentence import areallyourpetsnamederic do"
   ]
  },
  {
   "cell_type": "markdown",
   "id": "955aa082-3aec-4113-bee0-ccdfe5e9eaf8",
   "metadata": {},
   "source": [
    "This will show module not found error"
   ]
  },
  {
   "cell_type": "markdown",
   "id": "b466a295-af22-4561-aa2e-1a1b6b800ecc",
   "metadata": {},
   "source": [
    "12. If you had a bacon() feature in a spam module, what would you call it after importing spam?"
   ]
  },
  {
   "cell_type": "markdown",
   "id": "5d4bc1e5-59e1-41a1-b9d4-68daa51c8f11",
   "metadata": {},
   "source": [
    "It can be called by using spam.bacon(). After importing spam module"
   ]
  },
  {
   "cell_type": "markdown",
   "id": "eb96c184-a89e-440f-a11f-6d7c881fe086",
   "metadata": {},
   "source": [
    "13. What can you do to save a programme from crashing if it encounters an error?"
   ]
  },
  {
   "cell_type": "markdown",
   "id": "d91fbe09-b8af-4697-a62f-7e7e4d69bcc8",
   "metadata": {},
   "source": [
    "It can be done by using try and except blocks or we can say by using exceptional handling."
   ]
  },
  {
   "cell_type": "markdown",
   "id": "cb2f7cef-d19c-463c-a4b7-2cd94829f8cd",
   "metadata": {},
   "source": [
    "14. What is the purpose of the try clause? What is the purpose of the except clause?"
   ]
  },
  {
   "cell_type": "markdown",
   "id": "98e87216-72f7-4617-8981-60dd7f065f36",
   "metadata": {},
   "source": [
    "The try clause is used to enclose the code that may raise an exception or error, while the except clause is used to catch and handle the exceptions that are raised during the execution of the try block."
   ]
  }
 ],
 "metadata": {
  "kernelspec": {
   "display_name": "Python 3 (ipykernel)",
   "language": "python",
   "name": "python3"
  },
  "language_info": {
   "codemirror_mode": {
    "name": "ipython",
    "version": 3
   },
   "file_extension": ".py",
   "mimetype": "text/x-python",
   "name": "python",
   "nbconvert_exporter": "python",
   "pygments_lexer": "ipython3",
   "version": "3.10.6"
  }
 },
 "nbformat": 4,
 "nbformat_minor": 5
}
