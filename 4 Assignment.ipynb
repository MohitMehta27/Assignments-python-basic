{
 "cells": [
  {
   "cell_type": "markdown",
   "id": "e38a0b32-e7e7-45c7-b271-a89a8cb1ba18",
   "metadata": {},
   "source": [
    "1. What exactly is []?"
   ]
  },
  {
   "cell_type": "markdown",
   "id": "6ff2f1ba-cced-4d6a-89f8-89592f36a04d",
   "metadata": {},
   "source": [
    "'[]' this represnts the empty list. A list is a sequence of values that can be of any type, such as integers, strings, or even other lists. An empty list, denoted by [], contains no items."
   ]
  },
  {
   "cell_type": "markdown",
   "id": "574bd104-8b9d-4731-962d-78fba2c30880",
   "metadata": {},
   "source": [
    "2. In a list of values stored in a variable called spam, how would you assign the value 'hello' as the third value? (Assume [2, 4, 6, 8, 10] are in spam.)"
   ]
  },
  {
   "cell_type": "code",
   "execution_count": 14,
   "id": "17db6412-07a0-4c6b-b994-6c5afbb18137",
   "metadata": {},
   "outputs": [
    {
     "name": "stdout",
     "output_type": "stream",
     "text": [
      "[2, 4, 'hello', 8, 10]\n"
     ]
    }
   ],
   "source": [
    "spam=[2,4,6,8,10]\n",
    "spam[2]=\"hello\"\n",
    "print(spam)"
   ]
  },
  {
   "cell_type": "code",
   "execution_count": null,
   "id": "f31f049f-415c-49b1-ae45-9bbeaecc5fcb",
   "metadata": {},
   "outputs": [],
   "source": [
    "#Let's pretend the spam includes the list ['a', 'b', 'c', 'd'] for the next three queries."
   ]
  },
  {
   "cell_type": "markdown",
   "id": "22814712-c904-454f-860b-dc6abb9c1ae9",
   "metadata": {},
   "source": [
    "3. What is the value of spam[int(int('3' * 2) / 11)]?"
   ]
  },
  {
   "cell_type": "code",
   "execution_count": 15,
   "id": "9c292981-2f7a-4d00-9ac4-b18c41fac005",
   "metadata": {},
   "outputs": [
    {
     "data": {
      "text/plain": [
       "'d'"
      ]
     },
     "execution_count": 15,
     "metadata": {},
     "output_type": "execute_result"
    }
   ],
   "source": [
    "spam=['a','b','c','d']\n",
    "spam[int(int('3' * 2) / 11)]"
   ]
  },
  {
   "cell_type": "markdown",
   "id": "1e5a21e2-899a-4b59-81c0-abab1dda5980",
   "metadata": {},
   "source": [
    "4. What is the value of spam[-1]?"
   ]
  },
  {
   "cell_type": "code",
   "execution_count": 16,
   "id": "f1357dfc-9896-4578-a24d-696367e78073",
   "metadata": {},
   "outputs": [
    {
     "data": {
      "text/plain": [
       "'d'"
      ]
     },
     "execution_count": 16,
     "metadata": {},
     "output_type": "execute_result"
    }
   ],
   "source": [
    "spam=['a','b','c','d']\n",
    "spam[-1]"
   ]
  },
  {
   "cell_type": "markdown",
   "id": "0e6d8498-a6bb-48b6-9fc2-ce99bf498ce9",
   "metadata": {},
   "source": [
    "5. What is the value of spam[:2]?"
   ]
  },
  {
   "cell_type": "code",
   "execution_count": 17,
   "id": "9561a258-970f-499d-98c6-451dbcadb4ce",
   "metadata": {},
   "outputs": [
    {
     "data": {
      "text/plain": [
       "['a', 'b']"
      ]
     },
     "execution_count": 17,
     "metadata": {},
     "output_type": "execute_result"
    }
   ],
   "source": [
    "spam=['a','b','c','d']\n",
    "spam[:2]"
   ]
  },
  {
   "cell_type": "code",
   "execution_count": null,
   "id": "f0cc40c7-c6ed-4bda-a6fe-9cec64abb54f",
   "metadata": {},
   "outputs": [],
   "source": [
    "#Let's pretend bacon has the list [3.14, 'cat,' 11, 'cat,' True] for the next three questions."
   ]
  },
  {
   "cell_type": "markdown",
   "id": "18b35521-2639-4a99-a468-c118349f9581",
   "metadata": {},
   "source": [
    "6. What is the value of bacon.index('cat')?"
   ]
  },
  {
   "cell_type": "code",
   "execution_count": 4,
   "id": "9cec113b-09d0-490e-9ee0-30efb595ea5a",
   "metadata": {},
   "outputs": [
    {
     "data": {
      "text/plain": [
       "1"
      ]
     },
     "execution_count": 4,
     "metadata": {},
     "output_type": "execute_result"
    }
   ],
   "source": [
    "bacon=[3.14, 'cat', 11, 'cat', True]\n",
    "bacon.index('cat')"
   ]
  },
  {
   "cell_type": "markdown",
   "id": "ac081186-0fd3-4df6-a94d-971c3c2bfcdb",
   "metadata": {},
   "source": [
    "7. How does bacon.append(99) change the look of the list value in bacon?"
   ]
  },
  {
   "cell_type": "code",
   "execution_count": 5,
   "id": "aea15c8c-39f8-4ce1-b44a-0a4947015c11",
   "metadata": {},
   "outputs": [
    {
     "name": "stdout",
     "output_type": "stream",
     "text": [
      "[3.14, 'cat', 11, 'cat', True, 99]\n"
     ]
    }
   ],
   "source": [
    "bacon.append(99)\n",
    "print(bacon)"
   ]
  },
  {
   "cell_type": "markdown",
   "id": "9cf69d52-a1cc-4dde-8db0-ada1df1bdec7",
   "metadata": {},
   "source": [
    "8. How does bacon.remove('cat') change the look of the list in bacon?"
   ]
  },
  {
   "cell_type": "code",
   "execution_count": 7,
   "id": "d0266d79-8eb9-4db8-a7a3-ba8a3b314c74",
   "metadata": {},
   "outputs": [
    {
     "name": "stdout",
     "output_type": "stream",
     "text": [
      "[3.14, 11, True, 99]\n"
     ]
    }
   ],
   "source": [
    "bacon.remove('cat')\n",
    "print(bacon)"
   ]
  },
  {
   "cell_type": "markdown",
   "id": "8226b12c-2011-4151-bb26-50e567fc1b8e",
   "metadata": {},
   "source": [
    "9. What are the list concatenation and list replication operators?"
   ]
  },
  {
   "cell_type": "markdown",
   "id": "9eb587ae-e121-4dd9-b905-7d2226f7d601",
   "metadata": {},
   "source": [
    "The list concatenation operator is \"+\", and it is used to combine two or more lists into a single list. On the other hand list replication operator is \"*\", and it is used to create a new list by repeating the elements of an existing list a certain number of times."
   ]
  },
  {
   "cell_type": "markdown",
   "id": "c22a6319-bc10-46ec-aae9-98b22498f9cd",
   "metadata": {},
   "source": [
    "10. What is difference between the list methods append() and insert()?"
   ]
  },
  {
   "cell_type": "markdown",
   "id": "93edd5fc-23a6-43ba-9811-61e44d145fda",
   "metadata": {},
   "source": [
    "The append() method is used to add an element to the end of a list. The insert() method, on the other hand, is used to add an element to a specific position in the list. It takes two arguments: the first argument is the index position where the new element should be inserted, and the second argument is the value of the new element."
   ]
  },
  {
   "cell_type": "markdown",
   "id": "e37cc1d4-945b-4fd6-b9d6-138bf0407b81",
   "metadata": {},
   "source": [
    "11. What are the two methods for removing items from a list?"
   ]
  },
  {
   "cell_type": "markdown",
   "id": "39e1d590-2b31-4296-88c5-68ccd9f927c2",
   "metadata": {},
   "source": [
    "The two methods of removing items from a list are :\n",
    "1. remove() method: This method removes the first occurrence of a specified value from the list. It takes one argument, which is the value to be removed\n",
    "2. pop() method: This method removes an item at a specified index position from the list and returns the removed item. If no index is specified, it removes and returns the last item in the list"
   ]
  },
  {
   "cell_type": "markdown",
   "id": "4b02abc1-b316-4cfd-9a7a-7531e79ba670",
   "metadata": {},
   "source": [
    "12. Describe how list values and string values are identical."
   ]
  },
  {
   "cell_type": "markdown",
   "id": "45a22844-0a5a-4f3b-be19-6eb4bc546b3a",
   "metadata": {},
   "source": [
    "List values and string values share some similarities in Python:\n",
    "1.Both are ordered sequences of elements: In both lists and strings, the elements are arranged in a specific order and can be accessed using their index positions.\n",
    "2.Both support indexing and slicing: Both lists and strings can be indexed and sliced to access specific elements or subsequences.\n",
    "3.Both are iterable: Both lists and strings can be used in for loops to iterate over their elements."
   ]
  },
  {
   "cell_type": "markdown",
   "id": "100b062e-f73e-4616-85f1-014889cf6e36",
   "metadata": {},
   "source": [
    "13. What's the difference between tuples and lists?"
   ]
  },
  {
   "cell_type": "markdown",
   "id": "8156533e-1321-40e9-b388-bde0d058c3fd",
   "metadata": {},
   "source": [
    "Tuples are immutable, which means that once you create a tuple, you cannot modify its contents. In contrast, lists are mutable, so you can add, remove, or modify elements in a list"
   ]
  },
  {
   "cell_type": "markdown",
   "id": "8fa31b99-0b89-45cb-ad8c-514a1e9f9fdc",
   "metadata": {},
   "source": [
    "14. How do you type a tuple value that only contains the integer 42?"
   ]
  },
  {
   "cell_type": "code",
   "execution_count": 2,
   "id": "429a9fe8-601e-4bfb-8fd2-7bec26983594",
   "metadata": {},
   "outputs": [
    {
     "name": "stdout",
     "output_type": "stream",
     "text": [
      "<class 'tuple'>\n"
     ]
    }
   ],
   "source": [
    "a=(42,)\n",
    "print (type(a))"
   ]
  },
  {
   "cell_type": "markdown",
   "id": "9c55064a-9ae0-4776-a084-216af0c97bd3",
   "metadata": {},
   "source": [
    "15. How do you get a list value's tuple form? How do you get a tuple value's list form?"
   ]
  },
  {
   "cell_type": "code",
   "execution_count": 3,
   "id": "f71f521e-5694-4739-ba2d-d762179a19e7",
   "metadata": {},
   "outputs": [
    {
     "name": "stdout",
     "output_type": "stream",
     "text": [
      "(1, 2, 3, 4)\n"
     ]
    }
   ],
   "source": [
    "#list to tuples\n",
    "a=[1,2,3,4]\n",
    "b= tuple(a)\n",
    "print (b)"
   ]
  },
  {
   "cell_type": "code",
   "execution_count": 6,
   "id": "534e196d-a19e-46b2-89b7-8afd06aaebe7",
   "metadata": {},
   "outputs": [
    {
     "name": "stdout",
     "output_type": "stream",
     "text": [
      "[1, 2, 3, 4]\n"
     ]
    }
   ],
   "source": [
    "#tuples to list \n",
    "a=(1,2,3,4)\n",
    "b=list(a)\n",
    "print (b)"
   ]
  },
  {
   "cell_type": "markdown",
   "id": "4987b6cf-f727-4500-b8f1-ce774dc195ae",
   "metadata": {},
   "source": [
    "16. Variables that \"contain\" list values are not necessarily lists themselves. Instead, what do they contain?"
   ]
  },
  {
   "cell_type": "markdown",
   "id": "f13d5a73-6243-42d2-9af2-1464a207f1ef",
   "metadata": {},
   "source": [
    "Variables that \"contain\" list values in Python actually contain references to list objects. In other words, the variable stores a memory address that points to the location of the list object in the computer's memory."
   ]
  },
  {
   "cell_type": "markdown",
   "id": "73391f56-aa09-4791-be24-048a5e352b5c",
   "metadata": {},
   "source": [
    "17. How do you distinguish between copy.copy() and copy.deepcopy()?"
   ]
  },
  {
   "cell_type": "markdown",
   "id": "211d66d9-6182-4292-9998-db87f9717010",
   "metadata": {},
   "source": [
    "copy() creates a new object with a new memory address, which is a shallow copy of the original object. This means that the new object contains references to the same memory locations as the original object for its non-immutable elements. So any changes made to the non-immutable elements of the new object will also affect the original object\n",
    "#while\n",
    "deepcopy() creates a new object with a new memory address, which is a deep copy of the original object. This means that the new object contains new copies of all the nested objects, rather than references to the same objects as the original object. So any changes made to the nested objects of the new object will not affect the original object."
   ]
  }
 ],
 "metadata": {
  "kernelspec": {
   "display_name": "Python 3 (ipykernel)",
   "language": "python",
   "name": "python3"
  },
  "language_info": {
   "codemirror_mode": {
    "name": "ipython",
    "version": 3
   },
   "file_extension": ".py",
   "mimetype": "text/x-python",
   "name": "python",
   "nbconvert_exporter": "python",
   "pygments_lexer": "ipython3",
   "version": "3.10.6"
  }
 },
 "nbformat": 4,
 "nbformat_minor": 5
}
