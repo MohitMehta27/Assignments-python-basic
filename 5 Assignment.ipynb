{
 "cells": [
  {
   "cell_type": "markdown",
   "id": "ab2a4c1f-24ce-4d01-8d01-e8f6aa4fb908",
   "metadata": {},
   "source": [
    "1. What does an empty dictionary's code look like?"
   ]
  },
  {
   "cell_type": "code",
   "execution_count": 2,
   "id": "d92acc8c-dd25-49ee-b616-64165f6fcdc3",
   "metadata": {},
   "outputs": [
    {
     "name": "stdout",
     "output_type": "stream",
     "text": [
      "<class 'dict'>\n",
      "<class 'dict'>\n"
     ]
    }
   ],
   "source": [
    "a={}\n",
    "b=dict()\n",
    "print (type(a))\n",
    "print (type(b))"
   ]
  },
  {
   "cell_type": "markdown",
   "id": "864d2213-eff8-47db-898d-8516e3ac5e84",
   "metadata": {},
   "source": [
    "2. What is the value of a dictionary value with the key 'foo' and the value 42?"
   ]
  },
  {
   "cell_type": "code",
   "execution_count": 3,
   "id": "54e95464-f58f-404b-b2e0-16eba077748e",
   "metadata": {},
   "outputs": [
    {
     "name": "stdout",
     "output_type": "stream",
     "text": [
      "42\n"
     ]
    }
   ],
   "source": [
    "#The value of a dictionary value with the key 'foo' and the value 42 would be 42\n",
    "my_dict = {'foo': 42}\n",
    "print(my_dict['foo'])\n"
   ]
  },
  {
   "cell_type": "markdown",
   "id": "5a91d88f-46b7-4897-8c07-603bd8a833e2",
   "metadata": {},
   "source": [
    "3. What is the most significant distinction between a dictionary and a list?"
   ]
  },
  {
   "cell_type": "markdown",
   "id": "71466c43-0dc4-4745-a3e7-39e7889c3d05",
   "metadata": {},
   "source": [
    "A list is an ordered collection of items, where each item is identified by an index starting from 0. A dictionary, on the other hand, is an unordered collection of key-value pairs. Each key-value pair is stored as an item, and the key is used to access the corresponding value."
   ]
  },
  {
   "cell_type": "markdown",
   "id": "cc6c251f-09b6-4138-9460-201b99f2c306",
   "metadata": {},
   "source": [
    "4. What happens if you try to access spam['foo'] if spam is {'bar': 100}?"
   ]
  },
  {
   "cell_type": "markdown",
   "id": "df3b8413-1381-430c-af1b-01628d38a115",
   "metadata": {},
   "source": [
    "If we try to access spam['foo'] when spam is {'bar': 100}, we will get a KeyError because there is no key named 'foo' in the spam dictionary"
   ]
  },
  {
   "cell_type": "markdown",
   "id": "43c059ba-5629-4851-804a-5279ae7bbc27",
   "metadata": {},
   "source": [
    "5. If a dictionary is stored in spam, what is the difference between the expressions 'cat' in spam and 'cat' in spam.keys()?"
   ]
  },
  {
   "cell_type": "markdown",
   "id": "7f574134-cb96-4b32-916e-2a60fbe3650f",
   "metadata": {},
   "source": [
    "There is no practical difference between the expressions 'cat' in spam and 'cat' in spam.keys() because when we use the in operator with a dictionary, it checks if the key exists in the dictionary."
   ]
  },
  {
   "cell_type": "markdown",
   "id": "32a22557-ac2e-4b67-ad8e-7af43a12f6a4",
   "metadata": {},
   "source": [
    "6. If a dictionary is stored in spam, what is the difference between the expressions 'cat' in spam and 'cat' in spam.values()?"
   ]
  },
  {
   "cell_type": "markdown",
   "id": "54fff7c2-ab7c-452c-866f-90bfa0754481",
   "metadata": {},
   "source": [
    "The expression 'cat' in spam checks if the string 'cat' is a key in the spam dictionary. It will return True if the key 'cat' exists in the dictionary and False otherwise.\n",
    "\n",
    "On the other hand, the expression 'cat' in spam.values() checks if the string 'cat' is a value in the spam dictionary. It will return True if any of the values in the dictionary are equal to 'cat', and False otherwise"
   ]
  },
  {
   "cell_type": "markdown",
   "id": "763204a7-f4eb-4d8b-b453-ff4375971c52",
   "metadata": {},
   "source": [
    "7. What is a shortcut for the following code?\n",
    "if 'color' not in spam:\n",
    "spam['color'] = 'black'\n"
   ]
  },
  {
   "cell_type": "code",
   "execution_count": 5,
   "id": "b7ec7b2b-b495-4729-b3f6-fbe15aa8ae90",
   "metadata": {},
   "outputs": [
    {
     "data": {
      "text/plain": [
       "'black'"
      ]
     },
     "execution_count": 5,
     "metadata": {},
     "output_type": "execute_result"
    }
   ],
   "source": [
    "#the setdefault() method of the dictionary to set a default value for a key if it doesn't already exist. The setdefault() method takes two arguments: the key to check for, and the default value to set if the key doesn't exist.\n",
    "spam.setdefault('color', 'black')\n"
   ]
  },
  {
   "cell_type": "markdown",
   "id": "b2a3d814-81db-48db-b342-57c2128936ca",
   "metadata": {},
   "source": [
    "8. How do you \"pretty print\" dictionary values using which module and function?"
   ]
  },
  {
   "cell_type": "code",
   "execution_count": null,
   "id": "381d1ca9-4509-4adc-9e44-26ca87e685c5",
   "metadata": {},
   "outputs": [],
   "source": [
    "It can be done by using the pprint module in Python to \"pretty print\" dictionary values. "
   ]
  }
 ],
 "metadata": {
  "kernelspec": {
   "display_name": "Python 3 (ipykernel)",
   "language": "python",
   "name": "python3"
  },
  "language_info": {
   "codemirror_mode": {
    "name": "ipython",
    "version": 3
   },
   "file_extension": ".py",
   "mimetype": "text/x-python",
   "name": "python",
   "nbconvert_exporter": "python",
   "pygments_lexer": "ipython3",
   "version": "3.10.6"
  }
 },
 "nbformat": 4,
 "nbformat_minor": 5
}
