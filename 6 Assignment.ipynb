{
 "cells": [
  {
   "cell_type": "markdown",
   "id": "80ddbecd-c400-427b-8b03-8fdbaf851816",
   "metadata": {},
   "source": [
    "1. What are escape characters, and how do you use them?"
   ]
  },
  {
   "cell_type": "markdown",
   "id": "2108ece7-bf1b-4e9b-b941-d09808c9d751",
   "metadata": {},
   "source": [
    "Escape characters are special characters that are used to represent characters that are difficult or impossible to type or represent in a string or character sequence. They are used to indicate certain actions that may not be represented in a normal character. An escape character is denoted by a backslash () followed by a character or characters"
   ]
  },
  {
   "cell_type": "markdown",
   "id": "f4214d59-a25a-46e7-a697-d108089dd690",
   "metadata": {},
   "source": [
    "2. What do the escape characters n and t stand for?"
   ]
  },
  {
   "cell_type": "markdown",
   "id": "c3d4afc1-c883-4635-b891-6f1d7715a307",
   "metadata": {},
   "source": [
    "The escape character \"\\n\" stands for a newline character, which is used to indicate the end of a line of text and move the cursor to the beginning of the next line. It is commonly used in programming languages, text editors, and other applications to format text.\n",
    "\n",
    "The escape character \"\\t\" stands for a horizontal tab character, which is used to insert a horizontal tab or space between characters. It is commonly used to align columns of text or data in a table or other formatted document."
   ]
  },
  {
   "cell_type": "markdown",
   "id": "89d3df2f-90eb-404c-a44d-c94869d1992b",
   "metadata": {},
   "source": [
    "3. What is the way to include backslash characters in a string?"
   ]
  },
  {
   "cell_type": "markdown",
   "id": "71e98890-cd76-42d1-ab33-c79dba3f8c56",
   "metadata": {},
   "source": [
    "To include a backslash character in a string, we can use the escape character \"\" before the backslash. This is because the backslash character itself is an escape character and is used to indicate that the next character should be treated specially. So if we want to include a backslash character in a string, we need to use the escape character to tell the program not to treat the backslash as an escape character."
   ]
  },
  {
   "cell_type": "markdown",
   "id": "e446ff4f-81bd-414a-b0b0-bdced09a87ec",
   "metadata": {},
   "source": [
    "4. The string \"Howl's Moving Castle\" is a correct value. Why isn't the single quote character in the word Howl's not escaped a problem?"
   ]
  },
  {
   "cell_type": "markdown",
   "id": "4285a82f-a81c-458b-9055-063339b38511",
   "metadata": {},
   "source": [
    "single quotes and double quotes can be used interchangeably to define a string. In this case, the string \"Howl's Moving Castle\" is defined using single quotes, which means that the apostrophe in \"Howl's\" is included directly in the string without needing to be escaped."
   ]
  },
  {
   "cell_type": "markdown",
   "id": "03716a75-a874-4dd6-ae4d-d8289335cbc5",
   "metadata": {},
   "source": [
    "5. How do you write a string of newlines if you don't want to use the n character?"
   ]
  },
  {
   "cell_type": "markdown",
   "id": "8bd5bedd-eea3-4101-9cf7-94912d752357",
   "metadata": {},
   "source": [
    "It can be done by using platform-specific newline character sequences, which are represented by the \"os.linesep\" variable in Python"
   ]
  },
  {
   "cell_type": "markdown",
   "id": "7367ba17-cc81-4d43-a862-2679e0c2277a",
   "metadata": {},
   "source": [
    "6. What are the values of the given expressions?\n",
    "'Hello, world!'[1]\n",
    "'Hello, world!'[0:5]\n",
    "'Hello, world!'[:5]\n",
    "'Hello, world!'[3:]\n"
   ]
  },
  {
   "cell_type": "code",
   "execution_count": 3,
   "id": "beb05dd7-1368-4e13-a899-0eef7f0b698d",
   "metadata": {},
   "outputs": [
    {
     "data": {
      "text/plain": [
       "'e'"
      ]
     },
     "execution_count": 3,
     "metadata": {},
     "output_type": "execute_result"
    }
   ],
   "source": [
    "'Hello,world!'\n",
    "'Hello, world!'[1]\n",
    "\n"
   ]
  },
  {
   "cell_type": "code",
   "execution_count": 4,
   "id": "eb6e9e9f-41e9-4917-b562-0899bf639cea",
   "metadata": {},
   "outputs": [
    {
     "data": {
      "text/plain": [
       "'Hello'"
      ]
     },
     "execution_count": 4,
     "metadata": {},
     "output_type": "execute_result"
    }
   ],
   "source": [
    "'Hello, world!'[0:5]\n",
    "\n"
   ]
  },
  {
   "cell_type": "code",
   "execution_count": 5,
   "id": "540e0a65-3d18-40a3-ba96-8081691aff43",
   "metadata": {},
   "outputs": [
    {
     "data": {
      "text/plain": [
       "'Hello'"
      ]
     },
     "execution_count": 5,
     "metadata": {},
     "output_type": "execute_result"
    }
   ],
   "source": [
    "'Hello, world!'[:5]\n"
   ]
  },
  {
   "cell_type": "code",
   "execution_count": 6,
   "id": "debf83ae-0272-4f0a-9ec7-e3cb5138668d",
   "metadata": {},
   "outputs": [
    {
     "data": {
      "text/plain": [
       "'lo, world!'"
      ]
     },
     "execution_count": 6,
     "metadata": {},
     "output_type": "execute_result"
    }
   ],
   "source": [
    "'Hello, world!'[3:]\n"
   ]
  },
  {
   "cell_type": "markdown",
   "id": "775a2210-70d3-46a5-9c80-143811252e60",
   "metadata": {},
   "source": [
    "7. What are the values of the following expressions?\n",
    "'Hello'.upper()\n",
    "'Hello'.upper().isupper()\n",
    "'Hello'.upper().lower()\n"
   ]
  },
  {
   "cell_type": "code",
   "execution_count": 7,
   "id": "4d35f818-e44e-44ed-b71a-2d74401cafac",
   "metadata": {},
   "outputs": [
    {
     "data": {
      "text/plain": [
       "'HELLO'"
      ]
     },
     "execution_count": 7,
     "metadata": {},
     "output_type": "execute_result"
    }
   ],
   "source": [
    "'Hello'.upper()\n",
    "#Convert every word in upper case"
   ]
  },
  {
   "cell_type": "code",
   "execution_count": 8,
   "id": "62ad310c-c16f-4b1d-90d1-f1ce5a865833",
   "metadata": {},
   "outputs": [
    {
     "data": {
      "text/plain": [
       "True"
      ]
     },
     "execution_count": 8,
     "metadata": {},
     "output_type": "execute_result"
    }
   ],
   "source": [
    "'Hello'.upper().isupper()\n",
    "#It will give true as an output"
   ]
  },
  {
   "cell_type": "code",
   "execution_count": 9,
   "id": "28f144cb-1423-499d-a93c-0d2e737ba6fc",
   "metadata": {},
   "outputs": [
    {
     "data": {
      "text/plain": [
       "'hello'"
      ]
     },
     "execution_count": 9,
     "metadata": {},
     "output_type": "execute_result"
    }
   ],
   "source": [
    "'Hello'.upper().lower()\n",
    "# convert all in lower case"
   ]
  },
  {
   "cell_type": "markdown",
   "id": "5c102650-208b-4c49-b5d0-9295711a47a5",
   "metadata": {},
   "source": [
    "8. What are the values of the following expressions?\n",
    "'Remember, remember, the fifth of July.'.split()\n",
    "'-'.join('There can only one.'.split())\n"
   ]
  },
  {
   "cell_type": "code",
   "execution_count": 10,
   "id": "62f94d2f-ed1b-4ef5-93b5-baa777bc76d6",
   "metadata": {},
   "outputs": [
    {
     "data": {
      "text/plain": [
       "['Remember,', 'remember,', 'the', 'fifth', 'of', 'July.']"
      ]
     },
     "execution_count": 10,
     "metadata": {},
     "output_type": "execute_result"
    }
   ],
   "source": [
    "'Remember, remember, the fifth of July.'.split()\n",
    "#it will split the sentence "
   ]
  },
  {
   "cell_type": "code",
   "execution_count": 11,
   "id": "f10285ff-f99f-4d2f-b997-8e6d2a8350b7",
   "metadata": {},
   "outputs": [
    {
     "data": {
      "text/plain": [
       "'There-can-only-one.'"
      ]
     },
     "execution_count": 11,
     "metadata": {},
     "output_type": "execute_result"
    }
   ],
   "source": [
    "'-'.join('There can only one.'.split())\n",
    "#it will join the sentence with \"-\""
   ]
  },
  {
   "cell_type": "markdown",
   "id": "74ec4e10-1b43-49f7-8fa6-25f1db4ebba7",
   "metadata": {},
   "source": [
    "9. What are the methods for right-justifying, left-justifying, and centering a string?"
   ]
  },
  {
   "cell_type": "markdown",
   "id": "d3d4603e-e016-4d95-b414-19c2da5105d3",
   "metadata": {},
   "source": [
    "right justifying:str.rjust\n",
    "left justifying:str.ljust\n",
    "centering: str.center\n"
   ]
  },
  {
   "cell_type": "markdown",
   "id": "b882392d-93e5-443c-924d-592c3641557c",
   "metadata": {},
   "source": [
    "10. What is the best way to remove whitespace characters from the start or end?"
   ]
  },
  {
   "cell_type": "raw",
   "id": "b907054f-d95f-43b9-830d-d2e08195c566",
   "metadata": {},
   "source": [
    "This can be done by:\n",
    "str.strip([chars]): This method returns a copy of the string with whitespace characters removed from both the beginning and the end of the string.\n",
    "\n",
    "str.lstrip([chars]): This method returns a copy of the string with whitespace characters removed from the beginning of the string. We can optionally specify a string of characters to remove instead of just whitespace characters.\n",
    "\n",
    "str.rstrip([chars]): This method returns a copy of the string with whitespace characters removed from the end of the string. You can optionally specify a string of characters to remove instead of just whitespace characters."
   ]
  }
 ],
 "metadata": {
  "kernelspec": {
   "display_name": "Python 3 (ipykernel)",
   "language": "python",
   "name": "python3"
  },
  "language_info": {
   "codemirror_mode": {
    "name": "ipython",
    "version": 3
   },
   "file_extension": ".py",
   "mimetype": "text/x-python",
   "name": "python",
   "nbconvert_exporter": "python",
   "pygments_lexer": "ipython3",
   "version": "3.10.6"
  }
 },
 "nbformat": 4,
 "nbformat_minor": 5
}
