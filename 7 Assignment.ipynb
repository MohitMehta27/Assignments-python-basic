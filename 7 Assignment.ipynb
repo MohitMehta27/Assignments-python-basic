{
 "cells": [
  {
   "cell_type": "markdown",
   "id": "02819d00-7afa-45b0-b1d6-03e5c90f9d9e",
   "metadata": {},
   "source": [
    "1. What is the name of the feature responsible for generating Regex objects?"
   ]
  },
  {
   "cell_type": "markdown",
   "id": "379511c9-c10f-48c4-8905-d24624562964",
   "metadata": {},
   "source": [
    "The feature responsible for generating Regex objects is the 're' module"
   ]
  },
  {
   "cell_type": "markdown",
   "id": "f5e4617b-0ff5-4d77-b724-0465a271dc25",
   "metadata": {},
   "source": [
    "2. Why do raw strings often appear in Regex objects?"
   ]
  },
  {
   "cell_type": "markdown",
   "id": "71d9d369-efb5-4106-803a-4edb8ba225d7",
   "metadata": {},
   "source": [
    "Raw strings are often used in Regex objects because they allow the backslash character to be treated as a literal character, rather than as an escape character. This is important because the backslash character is commonly used in regular expressions to escape special characters."
   ]
  },
  {
   "cell_type": "markdown",
   "id": "08853b8a-643e-43d7-8445-8559a6114dbb",
   "metadata": {},
   "source": [
    "3. What is the return value of the search() method?"
   ]
  },
  {
   "cell_type": "markdown",
   "id": "8d1619f7-ce93-4a84-b352-6574858bd8b8",
   "metadata": {},
   "source": [
    "The search() method of a regular expression object in Python returns a match object if it finds a match for the regular expression pattern in the given string, and None otherwise."
   ]
  },
  {
   "cell_type": "markdown",
   "id": "bd595954-0619-459f-ba52-7dc29f2431bb",
   "metadata": {},
   "source": [
    "4. From a Match item, how do you get the actual strings that match the pattern?"
   ]
  },
  {
   "cell_type": "markdown",
   "id": "91dee71a-3d5d-401a-b27c-e6428001cd31",
   "metadata": {},
   "source": [
    "To get the actual strings that match we can use the re.findall() function from the \"re\" module."
   ]
  },
  {
   "cell_type": "markdown",
   "id": "5819dddf-5508-4c0d-b62b-7345a7370415",
   "metadata": {},
   "source": [
    "5. In the regex which created from the r'(\\d\\d\\d)-(\\d\\d\\d-\\d\\d\\d\\d)', what does group zero cover? Group 2? Group 1?"
   ]
  },
  {
   "cell_type": "markdown",
   "id": "74e5943d-b597-4b91-adcd-f5cf4f34c1a7",
   "metadata": {},
   "source": [
    "Group 0 covers the entire matched string. In this case, it would be a string that matches a sequence of three digits followed by a hyphen, then another sequence of three digits, another hyphen, and finally, a sequence of four digits.\n",
    "\n",
    "Group 1 covers the first sequence of three digits before the hyphen.\n",
    "\n",
    "Group 2 covers the second sequence of three digits, the hyphen, and the final sequence of four digits."
   ]
  },
  {
   "cell_type": "markdown",
   "id": "3ca70fdf-4cb7-439a-9404-3a85b109c279",
   "metadata": {},
   "source": [
    "6. In standard expression syntax, parentheses and intervals have distinct meanings. How can you tell a regex that you want it to fit real parentheses and periods?\n"
   ]
  },
  {
   "cell_type": "markdown",
   "id": "08ecad46-7565-46f2-be75-9c4145c6600e",
   "metadata": {},
   "source": [
    "To tell a regular expression to match literal parentheses and periods escape characters can be used to specify that the characters should be treated as literals rather than special characters with their own meanings in regular expressions"
   ]
  },
  {
   "cell_type": "markdown",
   "id": "beb20daf-5ec8-446b-82fa-a07307c97c5d",
   "metadata": {},
   "source": [
    "7. The findall() method returns a string list or a list of string tuples. What causes it to return one of the two options?"
   ]
  },
  {
   "cell_type": "markdown",
   "id": "95f5abdd-c32b-41e7-be93-4e655c1cac24",
   "metadata": {},
   "source": [
    "The findall() method in re  module returns either a list of strings or a list of tuples, depending on whether or not the regular expression being searched has capturing groups. \n",
    "If a regular expression contains one or more capturing groups, then findall() will return a list of tuples, where each tuple represents a non-overlapping match of the regular expression in the input string, and each element of the tuple corresponds to one of the capturing groups.\n",
    "If a regular expression does not contain any capturing groups, then findall() will return a list of strings, where each string in the list represents a non-overlapping match of the regular expression in the input string."
   ]
  },
  {
   "cell_type": "markdown",
   "id": "1099e65f-c3bb-4910-a516-c3d2022df620",
   "metadata": {},
   "source": [
    "8. In standard expressions, what does the | character mean?"
   ]
  },
  {
   "cell_type": "markdown",
   "id": "9a6262c7-a228-4fd9-9fbb-9250a317d155",
   "metadata": {},
   "source": [
    "In regular expressions, the \"|\" character (vertical bar or pipe) is known as the \"alternation\" operator or \"OR\" operator. It is used to match one of several possible patterns.The \"|\" operator matches either the pattern on its left or the pattern on its right."
   ]
  },
  {
   "cell_type": "markdown",
   "id": "c7c5c842-d736-4ce8-830b-68ee28f80b5b",
   "metadata": {},
   "source": [
    "9. In regular expressions, what does the character stand for?"
   ]
  },
  {
   "cell_type": "markdown",
   "id": "efb2a53f-d645-4ea3-8950-b9eedc41aad5",
   "metadata": {},
   "source": [
    "In regular expressions, a character represents a single character or a class of characters. It helps to define a pattern or a set of rules for matching and manipulating text. The role of characters in regular expressions is to define a pattern of text that user want to match or manipulate. By using different combinations of characters, we can create powerful and flexible regular expressions that can handle complex text matching and manipulation tasks."
   ]
  },
  {
   "cell_type": "markdown",
   "id": "f68aa3b2-83f1-431e-9ff4-8a8fd2a79112",
   "metadata": {},
   "source": [
    "10. In regular expressions, what is the difference between the + and * characters?"
   ]
  },
  {
   "cell_type": "markdown",
   "id": "1bb9b904-ce8e-49ae-a33d-02ea5e2c8757",
   "metadata": {},
   "source": [
    "In regular expressions, the + and * characters are quantifiers that modify the behavior of the preceding character or group. The main difference between the + and * characters is that the + matches one or more occurrences of the preceding character or group, while the * matches zero or more occurrences of the preceding character or group"
   ]
  },
  {
   "cell_type": "markdown",
   "id": "c39d8442-0666-4628-8770-15b959c56f97",
   "metadata": {},
   "source": [
    "11. What is the difference between {4} and {4,5} in regular expression?"
   ]
  },
  {
   "cell_type": "markdown",
   "id": "b0f41ed3-2f9b-44b7-98e5-b38630a2ca0b",
   "metadata": {},
   "source": [
    "The curly braces {} are used as quantifiers to specify the exact number of occurrences of the preceding character or group. The difference between {4} and {4,5} is the range of the number of occurrences that they match.\n",
    "\n",
    "{4} matches the preceding character or group exactly four times. For example, the regular expression 'a{4}' matches the string 'aaaa', but not 'aa' or 'aaaaa'.\n",
    "\n",
    "{4,5} matches the preceding character or group between four and five times. For example, the regular expression 'a{4,5}' matches the string 'aaaa' or 'aaaaa', but not 'aa', 'aaa', or 'aaaaaa'."
   ]
  },
  {
   "cell_type": "markdown",
   "id": "dd93a39a-c183-44c4-ba05-486049041073",
   "metadata": {},
   "source": [
    "12. What do you mean by the \\d, \\w, and \\s shorthand character classes signify in regular expressions?"
   ]
  },
  {
   "cell_type": "markdown",
   "id": "c487eb51-fb21-450c-9a86-1d95632fa679",
   "metadata": {},
   "source": [
    "In regular expressions, the shorthand character classes \\d, \\w, and \\s represent common character sets:\n",
    "\n",
    "\\d matches any digit character, which is equivalent to the character class [0-9].\n",
    "\\w matches any word character, which includes letters, digits, and underscores (), which is equivalent to the character class [a-zA-Z0-9].\n",
    "\\s matches any whitespace character, which includes spaces, tabs, and line breaks"
   ]
  },
  {
   "cell_type": "markdown",
   "id": "0b1724be-cc69-4179-8699-7e46ec09bbaa",
   "metadata": {},
   "source": [
    "13. What do means by \\D, \\W, and \\S shorthand character classes signify in regular expressions?"
   ]
  },
  {
   "cell_type": "markdown",
   "id": "306f87f3-a727-41af-ab2e-1f4ac5360a11",
   "metadata": {},
   "source": [
    "The regular expression '\\D+' matches one or more non-digit characters, such as letters or symbols.\n",
    "The regular expression '\\W+' matches one or more non-word characters, such as punctuation or spaces.\n",
    "The regular expression '\\S+' matches one or more non-whitespace characters, such as letters, digits, or symbols"
   ]
  },
  {
   "cell_type": "markdown",
   "id": "47374ad7-513b-46d6-9da0-e7c0efd547f5",
   "metadata": {},
   "source": [
    "14. What is the difference between '.*?' and '.*'? "
   ]
  },
  {
   "cell_type": "markdown",
   "id": "7d438dde-ab66-486e-bd90-91a962bbc998",
   "metadata": {},
   "source": [
    ".* is a regular expression pattern that matches any character (except for a newline character) zero or more times, as many as possible, until the end of the string or until the next match. This is called a greedy match because it tries to match as many characters as possible, even if it means not finding a match later on.\n",
    "\n",
    "On the other hand, .*? is a non-greedy match that matches any character (except for a newline character) zero or more times, as few as possible, until the end of the string or until the next match. This means that it will stop as soon as it finds a match, even if it means finding a shorter match than what .* would find."
   ]
  },
  {
   "cell_type": "markdown",
   "id": "6f9d954b-4f25-44ef-8b6a-994e3d076b1e",
   "metadata": {},
   "source": [
    "15. What is the syntax for matching both numbers and lowercase letters with a character class?"
   ]
  },
  {
   "cell_type": "markdown",
   "id": "d0b0908c-527c-482e-a571-571a08d15372",
   "metadata": {},
   "source": [
    "\"[0-9a-z]\" this syntax can be used for matching both numbers and lowercase letters with a character class\n"
   ]
  },
  {
   "cell_type": "markdown",
   "id": "cd7a24b1-83f0-48f7-a47f-47a895864259",
   "metadata": {},
   "source": [
    "16. What is the procedure for making a normal expression in regax case insensitive?"
   ]
  },
  {
   "cell_type": "markdown",
   "id": "add499c8-e8ed-47b2-87b4-4e9ad821bc43",
   "metadata": {},
   "source": [
    "To make a regular expression case insensitive, you can use the \"i\" flag at the end of the regular expression pattern. This flag tells the regular expression engine to ignore case when matching the pattern."
   ]
  },
  {
   "cell_type": "markdown",
   "id": "e03530fa-8e08-472a-851e-93879bc7299a",
   "metadata": {},
   "source": [
    "17. What does the . character normally match? What does it match if re.DOTALL is passed as 2nd argument in re.compile()?"
   ]
  },
  {
   "cell_type": "markdown",
   "id": "6848879c-991d-4a7f-a067-f5db77828b99",
   "metadata": {},
   "source": [
    "In regular expressions, the \".\" (dot) character normally matches any character except for a newline character. If you pass the re.DOTALL (or re.S) flag as the second argument to the re.compile() function in Python, then the \".\" character will match any character, including newline characters. This is because the re.DOTALL flag changes the behavior of the dot character so that it matches any character, including newline characters."
   ]
  },
  {
   "cell_type": "markdown",
   "id": "a7e6cd9c-70d3-4541-bf9e-05d6efc66bb7",
   "metadata": {},
   "source": [
    "18. If numReg = re.compile(r'\\d+'), what will numRegex.sub('X', '11 drummers, 10 pipers, five rings, 4 hen') return?"
   ]
  },
  {
   "cell_type": "code",
   "execution_count": 1,
   "id": "a8d9cd9a-7be4-4bfe-8e6d-e1f96be88329",
   "metadata": {},
   "outputs": [
    {
     "name": "stdout",
     "output_type": "stream",
     "text": [
      "X drummers, X pipers, five rings, X hen\n"
     ]
    }
   ],
   "source": [
    "#The sub() method of a compiled regular expression object in Python replaces all non-overlapping occurrences of the pattern in the input string with the replacement string. In this case, the pattern \\d+ matches one or more digits, and the replacement string is 'X'.\n",
    "import re\n",
    "\n",
    "numRegex = re.compile(r'\\d+')\n",
    "result = numRegex.sub('X', '11 drummers, 10 pipers, five rings, 4 hen')\n",
    "print(result)\n"
   ]
  },
  {
   "cell_type": "markdown",
   "id": "09bf72ac-2706-46b8-bf10-3c4fef46df04",
   "metadata": {},
   "source": [
    "19. What does passing re.VERBOSE as the 2nd argument to re.compile() allow to do?"
   ]
  },
  {
   "cell_type": "markdown",
   "id": "6a6d544f-fa8a-42fa-b48c-c7e52e90b969",
   "metadata": {},
   "source": [
    "Passing re.VERBOSE (or re.X) as the second argument to re.compile() in Python allows you to use a more readable and structured format for writing regular expressions, called \"verbose\" or \"extended\" regular expressions. By default, regular expressions are written as a single string with no whitespace or comments. This can make complex regular expressions difficult to read and maintain. Using the re.VERBOSE flag allows you to write regular expressions using multiple lines and with comments, which can make them much easier to read and understand."
   ]
  },
  {
   "cell_type": "markdown",
   "id": "0a095756-087d-4bf6-af2f-72d1587996c8",
   "metadata": {},
   "source": [
    "20. How would you write a regex that match a number with comma for every three digits? It must match the given following:\n",
    "'42'\n",
    "'1,234'\n",
    "'6,368,745'\n",
    "but not the following:\n",
    "'12,34,567' (which has only two digits between the commas)\n",
    "'1234' (which lacks commas)\n"
   ]
  },
  {
   "cell_type": "code",
   "execution_count": 2,
   "id": "8a7c956b-c3e4-4de4-a304-eebe04c26746",
   "metadata": {},
   "outputs": [
    {
     "name": "stdout",
     "output_type": "stream",
     "text": [
      "<re.Match object; span=(0, 2), match='42'>\n",
      "<re.Match object; span=(0, 5), match='1,234'>\n",
      "<re.Match object; span=(0, 9), match='6,368,745'>\n",
      "None\n",
      "None\n"
     ]
    }
   ],
   "source": [
    "pattern = re.compile(r'^\\d{1,3}(,\\d{3})*$')\n",
    "\n",
    "# Matched\n",
    "print(pattern.match('42'))\n",
    "print(pattern.match('1,234'))\n",
    "print(pattern.match('6,368,745'))\n",
    "\n",
    "# Not matched\n",
    "print(pattern.match('12,34,567'))\n",
    "print(pattern.match('1234'))\n"
   ]
  },
  {
   "cell_type": "markdown",
   "id": "62dee7b6-a996-4dcc-ac62-005a242619f2",
   "metadata": {},
   "source": [
    "21. How would you write a regex that matches the full name of someone whose last name is Watanabe? You can assume that the first name that comes before it will always be one word that begins with a capital letter. The regex must match the following:\n",
    "'Haruto Watanabe'\n",
    "'Alice Watanabe'\n",
    "'RoboCop Watanabe'\n",
    "but not the following:\n",
    "'haruto Watanabe' (where the first name is not capitalized)\n",
    "'Mr. Watanabe' (where the preceding word has a nonletter character)\n",
    "'Watanabe' (which has no first name)\n",
    "'Haruto watanabe' (where Watanabe is not capitalized)\n"
   ]
  },
  {
   "cell_type": "code",
   "execution_count": 3,
   "id": "7dbafb52-6ee6-431f-93da-46daa41a44e3",
   "metadata": {},
   "outputs": [
    {
     "name": "stdout",
     "output_type": "stream",
     "text": [
      "<re.Match object; span=(0, 15), match='Haruto Watanabe'>\n",
      "<re.Match object; span=(0, 14), match='Alice Watanabe'>\n",
      "None\n",
      "None\n",
      "None\n",
      "None\n",
      "None\n"
     ]
    }
   ],
   "source": [
    "pattern = re.compile(r'^[A-Z][a-z]*\\sWatanabe$')\n",
    "\n",
    "# Matched\n",
    "print(pattern.match('Haruto Watanabe'))\n",
    "print(pattern.match('Alice Watanabe'))\n",
    "print(pattern.match('RoboCop Watanabe'))\n",
    "\n",
    "# Not matched\n",
    "print(pattern.match('haruto Watanabe'))\n",
    "print(pattern.match('Mr. Watanabe'))\n",
    "print(pattern.match('Watanabe'))\n",
    "print(pattern.match('Haruto watanabe'))\n"
   ]
  }
 ],
 "metadata": {
  "kernelspec": {
   "display_name": "Python 3 (ipykernel)",
   "language": "python",
   "name": "python3"
  },
  "language_info": {
   "codemirror_mode": {
    "name": "ipython",
    "version": 3
   },
   "file_extension": ".py",
   "mimetype": "text/x-python",
   "name": "python",
   "nbconvert_exporter": "python",
   "pygments_lexer": "ipython3",
   "version": "3.10.6"
  }
 },
 "nbformat": 4,
 "nbformat_minor": 5
}
