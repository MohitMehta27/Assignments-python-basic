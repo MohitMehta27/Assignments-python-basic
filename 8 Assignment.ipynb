{
 "cells": [
  {
   "cell_type": "markdown",
   "id": "1e50beed-c5f4-43c3-b6f6-1d1465b9460b",
   "metadata": {},
   "source": [
    "1. Is the Python Standard Library included with PyInputPlus?"
   ]
  },
  {
   "cell_type": "markdown",
   "id": "6d36bd5b-37c8-47f9-97c7-b92e7cadcf79",
   "metadata": {},
   "source": [
    "PyInputPlus is not a part of the Python Standard Library, it must be install separately using Pip"
   ]
  },
  {
   "cell_type": "markdown",
   "id": "fe0ca752-1b45-4d6f-96bf-a6c90a73f3cb",
   "metadata": {},
   "source": [
    "2. Why is PyInputPlus commonly imported with import pyinputplus as pypi?"
   ]
  },
  {
   "cell_type": "markdown",
   "id": "1174404b-ec58-4bba-a153-52da3d0144b2",
   "metadata": {},
   "source": [
    "PyInputPlus is commonly imported with the import pyinputplus as pypi statement because it provides a shorter alias for the package name, making it easier to reference in the code. The as keyword is used to specify an alias for the imported module or package, allowing the programmer to use a shorter or more convenient name to refer to the package throughout their code.By using pypi as the alias for PyInputPlus, it reduces the amount of code needed to reference the package, as well as making the code more readable and easier to understand."
   ]
  },
  {
   "cell_type": "markdown",
   "id": "2f234513-fb47-477c-8c6e-c9a848afaead",
   "metadata": {},
   "source": [
    "3. How do you distinguish between inputInt() and inputFloat()?"
   ]
  },
  {
   "cell_type": "markdown",
   "id": "641b53a9-4d49-4a80-99e1-ec8edcbe4900",
   "metadata": {},
   "source": [
    "inputInt() and inputFloat() are two functions provided by the PyInputPlus package in Python for taking user input as integers and floating-point numbers, respectively.\n",
    "inputInt() is used to take integer input from the user and returns an integer value. If the user enters a non-integer value, PyInputPlus raises a pyinputplus.RetryLimitException or a pyinputplus.\n",
    "nputFloat() is used to take floating-point input from the user and returns a floating-point value. Like inputInt(), if the user enters a non-floating-point value, PyInputPlus raises a pyinputplus.RetryLimitException or a pyinputplus"
   ]
  },
  {
   "cell_type": "markdown",
   "id": "63c770c9-18cf-485b-bfb3-186714708ef9",
   "metadata": {},
   "source": [
    "4. Using PyInputPlus, how do you ensure that the user enters a whole number between 0 and 99?"
   ]
  },
  {
   "cell_type": "code",
   "execution_count": null,
   "id": "a45e46a7-3033-4124-8667-36e51c44e4bb",
   "metadata": {},
   "outputs": [],
   "source": [
    "#inputInt() function from the PyInputPlus package can be used \n",
    "import pyinputplus as pyip\n",
    "\n",
    "number = pyip.inputInt(prompt=\"Enter a whole number between 0 and 99: \", min=0, max=99)\n",
    "print(f\"You entered: {number}\")\n"
   ]
  },
  {
   "cell_type": "markdown",
   "id": "89af42c1-e535-4730-b696-01cc7a9c650f",
   "metadata": {},
   "source": [
    "5. What is transferred to the keyword arguments allowRegexes and blockRegexes?"
   ]
  },
  {
   "cell_type": "markdown",
   "id": "5c89db6f-878f-4ead-ba68-af3eb56bbb32",
   "metadata": {},
   "source": [
    "The allowRegexes argument is a list of regular expressions that define the patterns of input that are allowed by the input function. If the user input matches any of the regular expressions in the allowRegexes list, then the input is accepted.\n",
    "\n",
    "On the other hand, the blockRegexes argument is a list of regular expressions that define the patterns of input that are not allowed by the input function. If the user input matches any of the regular expressions in the blockRegexes list, then the input is rejected and PyInputPlus raises a pyinputplus.RejectException"
   ]
  },
  {
   "cell_type": "markdown",
   "id": "786cfbce-66dd-406d-9bc3-115fc7cbde4c",
   "metadata": {},
   "source": [
    "6. If a blank input is entered three times, what does inputStr(limit=3) do?"
   ]
  },
  {
   "cell_type": "markdown",
   "id": "10aafc9d-0795-4f55-8c32-4278b5fa7542",
   "metadata": {},
   "source": [
    "If a blank input is entered three times in a row, the inputStr() function with limit=3 will raise a pyinputplus.RetryLimitException."
   ]
  },
  {
   "cell_type": "markdown",
   "id": "632f65c0-a84e-4b87-a29d-d32e243509cc",
   "metadata": {},
   "source": [
    "7. If blank input is entered three times, what does inputStr(limit=3, default='hello') do?"
   ]
  },
  {
   "cell_type": "markdown",
   "id": "04ea95a0-d948-4566-9662-9753104ac99b",
   "metadata": {},
   "source": [
    "If blank input is entered three times in a row when using inputStr(limit=3, default='hello'), the function will return the default value 'hello' without raising any exception."
   ]
  }
 ],
 "metadata": {
  "kernelspec": {
   "display_name": "Python 3 (ipykernel)",
   "language": "python",
   "name": "python3"
  },
  "language_info": {
   "codemirror_mode": {
    "name": "ipython",
    "version": 3
   },
   "file_extension": ".py",
   "mimetype": "text/x-python",
   "name": "python",
   "nbconvert_exporter": "python",
   "pygments_lexer": "ipython3",
   "version": "3.10.6"
  }
 },
 "nbformat": 4,
 "nbformat_minor": 5
}
