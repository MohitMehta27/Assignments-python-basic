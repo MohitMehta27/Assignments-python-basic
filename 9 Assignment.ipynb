{
 "cells": [
  {
   "cell_type": "markdown",
   "id": "b725640a-1efa-40ee-83a9-990f77cc7f73",
   "metadata": {},
   "source": [
    "1. To what does a relative path refer?"
   ]
  },
  {
   "cell_type": "markdown",
   "id": "2d09fd56-25d2-4cad-affc-f880e75a9cd6",
   "metadata": {},
   "source": [
    "A relative path in computing refers to the path of a file or directory with respect to the current working directory of a program or user. In other words, it specifies the path to a file or directory relative to the directory where the program is currently running"
   ]
  },
  {
   "cell_type": "markdown",
   "id": "8ac6d49e-57a6-4769-a21e-6b7c94b97c84",
   "metadata": {},
   "source": [
    "2. What does an absolute path start with your operating system?"
   ]
  },
  {
   "cell_type": "markdown",
   "id": "3392bdfd-acba-498e-8b9d-4f35dfa11b75",
   "metadata": {},
   "source": [
    "In computing, an absolute path refers to the complete path of a file or directory starting from the root directory of the file system. The root directory is the top-most directory in the file system hierarchy and is denoted by a forward slash (/) on Unix-based operating systems and by a drive letter followed by a colon (C:) on Windows operating systems.On Unix-based operating systems such as Linux and macOS, an absolute path always starts with a forward slash (/) that denotes the root directory. "
   ]
  },
  {
   "cell_type": "markdown",
   "id": "cd306185-f4b9-43b9-9f52-156757a73be0",
   "metadata": {},
   "source": [
    "3. What do the functions os.getcwd() and os.chdir() do?"
   ]
  },
  {
   "cell_type": "markdown",
   "id": "cb0f5cb0-9d11-4806-b333-5e4eee255f31",
   "metadata": {},
   "source": [
    "The os.getcwd() function returns the current working directory of the Python script. The os.chdir() function, on the other hand, changes the current working directory to the specified directory. This function takes a directory path as an argument and changes the current working directory to that path."
   ]
  },
  {
   "cell_type": "markdown",
   "id": "ad0bd7da-214b-4b22-ad4a-11e7ab7550ca",
   "metadata": {},
   "source": [
    "4. What are the . and .. folders?"
   ]
  },
  {
   "cell_type": "markdown",
   "id": "08133364-c598-468c-8d7e-c4b7d988ff31",
   "metadata": {},
   "source": [
    "the \".\" and \"..\" directories are special directory names that refer to the current directory and the parent directory, respectively.The \".\" directory is a reference to the current directory. It is commonly used in commands and scripts to refer to files or directories in the current directory. The \"..\" directory is a reference to the parent directory. It is used to refer to files or directories one level above the current directory. "
   ]
  },
  {
   "cell_type": "markdown",
   "id": "c6be2cf4-17b5-40bc-8e7a-e0420f4ff09b",
   "metadata": {},
   "source": [
    "5. In C:\\bacon\\eggs\\spam.txt, which part is the dir name, and which part is the base name?"
   ]
  },
  {
   "cell_type": "raw",
   "id": "93e2897e-6be7-41da-84ca-0ed26c94f8e1",
   "metadata": {},
   "source": [
    "In the file path C:\\bacon\\eggs\\spam.txt, the directory name is C:\\bacon\\eggs, and the base name is spam.txt."
   ]
  },
  {
   "cell_type": "code",
   "execution_count": null,
   "id": "42d52670-4fee-4b98-bb65-e2317a7883ca",
   "metadata": {},
   "outputs": [],
   "source": [
    "6. What are the three “mode” arguments that can be passed to the open() function?"
   ]
  },
  {
   "cell_type": "markdown",
   "id": "61cb7039-50eb-4382-9310-a3754c8a24b0",
   "metadata": {},
   "source": [
    "The following are the three main mode arguments that can be passed to the open() function:\n",
    "r (read mode): This is the default mode for opening a file. It opens a file for reading, and if the file does not exist, it raises a FileNotFoundError.\n",
    "w (write mode): This mode opens a file for writing. If the file exists, it truncates it to zero length. If the file does not exist, it creates a new file.\n",
    "a (append mode): This mode opens a file for appending data. If the file exists, it opens it and seeks to the end of the file, and new data is written at the end. If the file does not exist, it creates a new file"
   ]
  },
  {
   "cell_type": "markdown",
   "id": "cda5ec19-d3a8-45b6-985c-03d51bebbbd9",
   "metadata": {},
   "source": [
    "7. What happens if an existing file is opened in write mode?"
   ]
  },
  {
   "cell_type": "markdown",
   "id": "3885fc74-02f8-48dc-b576-8228533c14db",
   "metadata": {},
   "source": [
    "If an existing file is opened in write mode using the open() function in Python, the contents of the file will be truncated to zero length, which means that all the data in the file will be erased. "
   ]
  },
  {
   "cell_type": "markdown",
   "id": "4c7f00ff-4f71-4ac2-a269-1332eb14d31f",
   "metadata": {},
   "source": [
    "8. How do you tell the difference between read() and readlines()?"
   ]
  },
  {
   "cell_type": "markdown",
   "id": "5884dc2c-6692-4e1a-a70d-8fc04946ecdb",
   "metadata": {},
   "source": [
    "The main difference between the two methods is in how they read the data from the file:\n",
    "read() method: This method reads the entire contents of the file and returns it as a string. \n",
    "readlines() method: This method reads the file line by line and returns a list of lines. Each line in the file is treated as a separate element in the list."
   ]
  },
  {
   "cell_type": "markdown",
   "id": "69abeca7-38b5-4edc-b2cb-89cca54a5590",
   "metadata": {},
   "source": [
    "9. What data structure does a shelf value resemble?"
   ]
  },
  {
   "cell_type": "markdown",
   "id": "74fc28ca-130a-4ccc-8321-6d0097f917de",
   "metadata": {},
   "source": [
    "A shelf value resembles a dictionary value; it has keys and values, along with keys() and values() methods that work similarly to the dictionary methods of the same names"
   ]
  }
 ],
 "metadata": {
  "kernelspec": {
   "display_name": "Python 3 (ipykernel)",
   "language": "python",
   "name": "python3"
  },
  "language_info": {
   "codemirror_mode": {
    "name": "ipython",
    "version": 3
   },
   "file_extension": ".py",
   "mimetype": "text/x-python",
   "name": "python",
   "nbconvert_exporter": "python",
   "pygments_lexer": "ipython3",
   "version": "3.10.6"
  }
 },
 "nbformat": 4,
 "nbformat_minor": 5
}
