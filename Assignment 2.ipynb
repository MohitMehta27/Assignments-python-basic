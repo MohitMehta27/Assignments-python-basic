{
 "cells": [
  {
   "cell_type": "markdown",
   "id": "c26516bf-b6f3-4e21-848d-c74bee0f7893",
   "metadata": {},
   "source": [
    "1.What are the two values of the Boolean data type? How do you write them?"
   ]
  },
  {
   "cell_type": "markdown",
   "id": "4852b3f3-d6ab-46f8-ba5a-5d320569831d",
   "metadata": {},
   "source": [
    "the boolean data type has two possible values:\n",
    "    True\n",
    "    False \n",
    "    these values are written as shown above with the firste letter capital. These  values are not string they are built in constant that represent true values of logical expressions"
   ]
  },
  {
   "cell_type": "markdown",
   "id": "67fcd8c0-fdf0-4217-9f1c-9badbf85fd45",
   "metadata": {},
   "source": [
    "2. What are the three different types of Boolean operators?"
   ]
  },
  {
   "cell_type": "markdown",
   "id": "4d644fef-d649-4448-a268-a0f361c1e43a",
   "metadata": {},
   "source": [
    "the three different type of boolean operators are:\n",
    "    1.AND operator    \n",
    "    2. OR operator\n",
    "    3. NOT operator"
   ]
  },
  {
   "cell_type": "markdown",
   "id": "c0bb3b50-51e4-4979-81e5-e8a00f5a10c3",
   "metadata": {},
   "source": [
    "3. Make a list of each Boolean operator's truth tables (i.e. every possible combination of Boolean values for the operator and what it evaluate )."
   ]
  },
  {
   "cell_type": "markdown",
   "id": "0541f7f2-8c1d-41f0-b0e2-de0b1efddbca",
   "metadata": {},
   "source": [
    "AND\n",
    "operand 1      operand 2      result\n",
    "true            true           true\n",
    "true            false          true\n",
    "false           true           false\n",
    "false           false          false\n",
    "\n",
    "\n",
    "OR\n",
    "operand 1       operand 2      result\n",
    "true            true           true\n",
    "true            false          true\n",
    "false           true           true\n",
    "false           false          false\n",
    "\n",
    "NOT\n",
    "condition       not condition\n",
    "false           true\n",
    "true            false"
   ]
  },
  {
   "cell_type": "markdown",
   "id": "10ce0e04-5b9d-41a9-926e-c06bb49ee658",
   "metadata": {},
   "source": [
    "4. What are the values of the following expressions?\n",
    "(5 > 4) and (3 == 5)\n",
    "not (5 > 4)\n",
    "(5 > 4) or (3 == 5)\n",
    "not ((5 > 4) or (3 == 5))\n",
    "(True and True) and (True == False)\n",
    "(not False) or (not True)\n"
   ]
  },
  {
   "cell_type": "code",
   "execution_count": 1,
   "id": "3e0c0221-03d6-4049-9ecc-77a3a91e1c00",
   "metadata": {},
   "outputs": [
    {
     "data": {
      "text/plain": [
       "False"
      ]
     },
     "execution_count": 1,
     "metadata": {},
     "output_type": "execute_result"
    }
   ],
   "source": [
    "(5>4) and (3==5)"
   ]
  },
  {
   "cell_type": "code",
   "execution_count": 2,
   "id": "a6a263eb-f188-401d-bdaf-73044a70351b",
   "metadata": {},
   "outputs": [
    {
     "data": {
      "text/plain": [
       "False"
      ]
     },
     "execution_count": 2,
     "metadata": {},
     "output_type": "execute_result"
    }
   ],
   "source": [
    "not (5>4)"
   ]
  },
  {
   "cell_type": "code",
   "execution_count": 3,
   "id": "9cc3367c-f967-46ad-9d05-4c19b710ef68",
   "metadata": {},
   "outputs": [
    {
     "data": {
      "text/plain": [
       "True"
      ]
     },
     "execution_count": 3,
     "metadata": {},
     "output_type": "execute_result"
    }
   ],
   "source": [
    "(5>4) or (3==5)"
   ]
  },
  {
   "cell_type": "code",
   "execution_count": 4,
   "id": "1be2418b-a555-4b86-b5f8-49b6fd862635",
   "metadata": {},
   "outputs": [
    {
     "data": {
      "text/plain": [
       "False"
      ]
     },
     "execution_count": 4,
     "metadata": {},
     "output_type": "execute_result"
    }
   ],
   "source": [
    "not ((5>4) or(3==5))"
   ]
  },
  {
   "cell_type": "code",
   "execution_count": 6,
   "id": "0efd4b1b-35e8-4a45-add2-c6d4d4584d0b",
   "metadata": {},
   "outputs": [
    {
     "data": {
      "text/plain": [
       "False"
      ]
     },
     "execution_count": 6,
     "metadata": {},
     "output_type": "execute_result"
    }
   ],
   "source": [
    "(True and True) and (True==False)"
   ]
  },
  {
   "cell_type": "markdown",
   "id": "f6ae9526-8b56-4968-b250-171559c4385c",
   "metadata": {},
   "source": [
    "5. What are the six comparison operators?"
   ]
  },
  {
   "cell_type": "markdown",
   "id": "9b8b765d-e58e-4712-9196-d2bbb2977bb1",
   "metadata": {},
   "source": [
    "the six comparison operators are:\n",
    "    >\n",
    "    <\n",
    "    >=\n",
    "    <=\n",
    "    ==\n",
    "    !="
   ]
  },
  {
   "cell_type": "markdown",
   "id": "95364054-1e79-4e6a-99f2-5ca6bce709fa",
   "metadata": {},
   "source": [
    "6. How do you tell the difference between the equal to and assignment operators?Describe a condition and when you would use one."
   ]
  },
  {
   "cell_type": "code",
   "execution_count": 7,
   "id": "431fd9d4-2784-4c6f-947a-a5e501da07f8",
   "metadata": {},
   "outputs": [
    {
     "name": "stdout",
     "output_type": "stream",
     "text": [
      "wrong\n"
     ]
    }
   ],
   "source": [
    "#the assignment operator is used to assign value to the variable whereas the equal to operator is used to compare values\n",
    "a=5\n",
    "b=7\n",
    "if a==b:\n",
    "    print (\"correct\")\n",
    "else:\n",
    "    print (\"wrong\")"
   ]
  },
  {
   "cell_type": "markdown",
   "id": "a63a8ed4-5087-44f8-bbe6-ee6111a34147",
   "metadata": {},
   "source": [
    "In above exapmle assignment operator is used to assign value and equal to operator is used to compare values"
   ]
  },
  {
   "cell_type": "markdown",
   "id": "00bd4d06-c630-4b28-a226-459f26a1c0e8",
   "metadata": {},
   "source": [
    "7. Identify the three blocks in this code:\n",
    "spam = 0\n",
    "if spam == 10:\n",
    "print('eggs')\n",
    "if spam > 5:\n",
    "print('bacon')\n",
    "else:\n",
    "print('ham')\n",
    "print('spam')\n",
    "print('spam')\n"
   ]
  },
  {
   "cell_type": "markdown",
   "id": "93a13cdd-fab2-412e-9dff-0acc6afc6c00",
   "metadata": {},
   "source": [
    "the three blocks in the code are:\n",
    "1. declaration block: the block initializes the variable 'Spam' to 0\n",
    "2. conditional blocks: for three condition 'if','elif' and 'else' should be used \n",
    "3. print block: two print statemnet thatprints the string'spam' twice\n",
    "    "
   ]
  },
  {
   "cell_type": "markdown",
   "id": "65b858d2-6626-4b96-b222-2801511e8e52",
   "metadata": {},
   "source": [
    "8.Write code that prints Hello if 1 is stored in spam, prints Howdy if 2 is stored in spam, and prints Greetings! if anything else is stored in spam."
   ]
  },
  {
   "cell_type": "code",
   "execution_count": 3,
   "id": "a41eeeb2-0468-42f6-991d-65d4bf0a4bef",
   "metadata": {},
   "outputs": [
    {
     "name": "stdin",
     "output_type": "stream",
     "text": [
      "Input value of spam 3\n"
     ]
    },
    {
     "name": "stdout",
     "output_type": "stream",
     "text": [
      "Greetings!\n"
     ]
    }
   ],
   "source": [
    "Spam= int(input(\"Input value of spam\"))\n",
    "if Spam==1:\n",
    "    print (\"Hello\")\n",
    "elif Spam==2:\n",
    "    print (\"Howdy\")\n",
    "else:\n",
    "    print (\"Greetings!\")\n",
    "    "
   ]
  },
  {
   "cell_type": "markdown",
   "id": "3264bdb5-299b-4c81-9998-0fd80754d56c",
   "metadata": {},
   "source": [
    "9.If your programme is stuck in an endless loop, what keys you’ll press?"
   ]
  },
  {
   "cell_type": "markdown",
   "id": "4d5800cd-69ef-4b6c-9c9b-223bc9614f34",
   "metadata": {},
   "source": [
    "ctrl+c or interept the kernel"
   ]
  },
  {
   "cell_type": "markdown",
   "id": "7ec80d0e-2ebb-4d19-b604-d851a69b9626",
   "metadata": {},
   "source": [
    "10. How can you tell the difference between break and continue?"
   ]
  },
  {
   "cell_type": "markdown",
   "id": "f638d1e4-62ea-4ab5-ab3f-52cd8f0515e0",
   "metadata": {},
   "source": [
    "'break' terminates the loop immediately and transger the conrol to the statement following the loop while 'continue' skips the remaining statements in the current iteration of loop and jumps to next iteration "
   ]
  },
  {
   "cell_type": "markdown",
   "id": "bf76d153-4b3e-4712-96b8-4a87168ed6f5",
   "metadata": {},
   "source": [
    "11. In a for loop, what is the difference between range(10), range(0, 10), and range(0, 10, 1)?"
   ]
  },
  {
   "cell_type": "markdown",
   "id": "c312e46c-f23a-4e54-ba0c-4021e923908e",
   "metadata": {},
   "source": [
    "range(10)- this create a sequence of number from 0 to 10 and exculdes 10. the inital point is assumed from 0\n",
    "range(0,10)- this create a sequence where first digit teels the starting point and last shows stop point. This will create a sequence from 0 to 10 and exculde 10\n",
    "range(0,10,1)- this create a ss=equence of number starting from 0 to 10 , but exculde 10 and take a jump of 1 digit."
   ]
  },
  {
   "cell_type": "markdown",
   "id": "64ae3e15-7d5e-4d31-94b2-768e557a9667",
   "metadata": {},
   "source": [
    "12. Write a short program that prints the numbers 1 to 10 using a for loop. Then write an equivalent program that prints the numbers 1 to 10 using a while loop"
   ]
  },
  {
   "cell_type": "code",
   "execution_count": 4,
   "id": "0554c344-388d-4008-9419-eb2907fc2746",
   "metadata": {},
   "outputs": [
    {
     "name": "stdout",
     "output_type": "stream",
     "text": [
      "0\n",
      "1\n",
      "2\n",
      "3\n",
      "4\n",
      "5\n",
      "6\n",
      "7\n",
      "8\n",
      "9\n",
      "10\n"
     ]
    }
   ],
   "source": [
    "for i in range (0,11):\n",
    "    print (i)"
   ]
  },
  {
   "cell_type": "code",
   "execution_count": 10,
   "id": "8a49f63e-8461-4a21-baac-e99cbcdbd4a5",
   "metadata": {},
   "outputs": [
    {
     "name": "stdin",
     "output_type": "stream",
     "text": [
      " 0\n"
     ]
    },
    {
     "name": "stdout",
     "output_type": "stream",
     "text": [
      "1\n",
      "2\n",
      "3\n",
      "4\n",
      "5\n",
      "6\n",
      "7\n",
      "8\n",
      "9\n",
      "10\n"
     ]
    }
   ],
   "source": [
    "a=int(input())\n",
    "while a<=9:\n",
    "    a+=1\n",
    "    print (a)\n",
    "    "
   ]
  },
  {
   "cell_type": "markdown",
   "id": "d45bdcef-bd61-4bdd-a41e-c34f9eb222f7",
   "metadata": {},
   "source": [
    "13. If you had a function named bacon() inside a module named spam, how would you call it after importing spam?"
   ]
  },
  {
   "cell_type": "markdown",
   "id": "b4502020-96d4-4bd2-80b3-3018ab488844",
   "metadata": {},
   "source": [
    "import spam\n",
    "spam.bacon()"
   ]
  }
 ],
 "metadata": {
  "kernelspec": {
   "display_name": "Python 3 (ipykernel)",
   "language": "python",
   "name": "python3"
  },
  "language_info": {
   "codemirror_mode": {
    "name": "ipython",
    "version": 3
   },
   "file_extension": ".py",
   "mimetype": "text/x-python",
   "name": "python",
   "nbconvert_exporter": "python",
   "pygments_lexer": "ipython3",
   "version": "3.10.6"
  }
 },
 "nbformat": 4,
 "nbformat_minor": 5
}
