{
 "cells": [
  {
   "cell_type": "markdown",
   "id": "71278cb5-b2e7-40da-b813-d0fc8e18acb2",
   "metadata": {},
   "source": [
    "1. In the below elements which of them are values or an expression? eg:- values can be integer or string and expressions will be mathematical operators.\n",
    "* \n",
    "'hello'\n",
    "-87.8\n",
    "- \n",
    "/ \n",
    "+\t\n",
    "6 \n"
   ]
  },
  {
   "cell_type": "markdown",
   "id": "4c546918-a138-421a-bf40-f29be138d016",
   "metadata": {},
   "source": [
    " values-> 'hello',-87.8,6\n",
    "        expression-> *,-,/,+"
   ]
  },
  {
   "cell_type": "markdown",
   "id": "c76084d8-0c96-41db-9bd7-8fcbf530f0e7",
   "metadata": {},
   "source": [
    "2. What is the difference between string and variable?"
   ]
  },
  {
   "cell_type": "markdown",
   "id": "6e7cfda4-745e-42f2-b84d-7d1d344de5cd",
   "metadata": {},
   "source": [
    "String can be defined as a sequence of character and values enclosed in either single quotes or double quotes whereas variable are the named lacation in memory that can hold any type of value."
   ]
  },
  {
   "cell_type": "markdown",
   "id": "3280e21d-88b8-4dcd-873b-5e1e94875110",
   "metadata": {},
   "source": [
    "3. Describe three different data types."
   ]
  },
  {
   "cell_type": "markdown",
   "id": "64dbec52-782c-4e21-a332-ce5b30be2493",
   "metadata": {},
   "source": [
    "The various 3 type of data types are :-\n",
    "1. Numeric- it contain numberic value , float and complex numbers\n",
    "2. String- sequence of different values and expression enclosed in single or double quotes\n",
    "3. Boolean- it contain true and false "
   ]
  },
  {
   "cell_type": "markdown",
   "id": "c13ee8e2-9caf-453c-8c7d-ad7611ddf87a",
   "metadata": {},
   "source": [
    "4. What is an expression made up of? What do all expressions do?"
   ]
  },
  {
   "cell_type": "markdown",
   "id": "53ac5588-3677-4585-af93-e468b60406e9",
   "metadata": {},
   "source": [
    "expression is made up of one or more operands and are used to perform some computaion or evaluate a vale.\n",
    "The purpose of an expression is to cobine values and operators to produce new value and results. expressions can be used in a variety if contexts such as in assignments, function calls, cnditional statements and loops etc"
   ]
  },
  {
   "cell_type": "markdown",
   "id": "1cbbf31f-778d-498b-95a7-eb2578009411",
   "metadata": {},
   "source": [
    "5. This assignment statements, like spam = 10. What is the difference between an expression and a statement?"
   ]
  },
  {
   "cell_type": "markdown",
   "id": "59c6e230-0f40-4256-ac45-716babe911fe",
   "metadata": {},
   "source": [
    "expression can be defined as piece of code that evaluates to a value whereas on the other hand statement is  a piece of code that performs actionssuch as assigning the value to variable\n",
    "in case of the assignment statement spam = 10 ,it is a statement that assign value 10 to the variable \"spam\""
   ]
  },
  {
   "cell_type": "markdown",
   "id": "26ed7040-c562-481a-8c1d-31c324e85d01",
   "metadata": {},
   "source": [
    "6. After running the following code, what does the variable bacon contain?\n",
    "bacon = 22\n",
    "bacon + 1\n"
   ]
  },
  {
   "cell_type": "markdown",
   "id": "460fc4db-4d63-45da-9692-86979b73aa97",
   "metadata": {},
   "source": [
    "the variable bacon contain will be 22"
   ]
  },
  {
   "cell_type": "markdown",
   "id": "add8cee6-657d-4dd5-a436-e32105ad6c3a",
   "metadata": {},
   "source": [
    "7. What should the values of the following two terms be?\n",
    "'spam' + 'spamspam'\n",
    "'spam' * 3\n"
   ]
  },
  {
   "cell_type": "code",
   "execution_count": 4,
   "id": "7ebe36f3-bef8-43c9-91ad-8743fddc0b51",
   "metadata": {},
   "outputs": [
    {
     "data": {
      "text/plain": [
       "'spamspamspam'"
      ]
     },
     "execution_count": 4,
     "metadata": {},
     "output_type": "execute_result"
    }
   ],
   "source": [
    "'spam'+'spamspam'\n"
   ]
  },
  {
   "cell_type": "code",
   "execution_count": 5,
   "id": "666dcfba-883c-4c1f-a6eb-9edccc972cd4",
   "metadata": {},
   "outputs": [
    {
     "data": {
      "text/plain": [
       "'spamspamspam'"
      ]
     },
     "execution_count": 5,
     "metadata": {},
     "output_type": "execute_result"
    }
   ],
   "source": [
    "'spam'*3"
   ]
  },
  {
   "cell_type": "markdown",
   "id": "87de1b4b-731a-4e20-a029-847f4f055500",
   "metadata": {},
   "source": [
    "8. Why is eggs a valid variable name while 100 is invalid?"
   ]
  },
  {
   "cell_type": "markdown",
   "id": "ba30d762-f8d7-46a4-b414-ac555a5f39ae",
   "metadata": {},
   "source": [
    "In python the variable names must follow certain rules and one rule state that the variable name can not be start with number hence this is the reason 100 in invalid"
   ]
  },
  {
   "cell_type": "markdown",
   "id": "7530d082-a1c1-48a9-817e-1817802e5e97",
   "metadata": {},
   "source": [
    "9. What three functions can be used to get the integer, floating-point number, or string version of a value?"
   ]
  },
  {
   "cell_type": "markdown",
   "id": "763d3d72-cf4c-48bc-ae8b-3798684d95c3",
   "metadata": {},
   "source": [
    "int() is used to get the integer value\n",
    "float() is used to get the float value and\n",
    "str() is used to get the string value"
   ]
  },
  {
   "cell_type": "markdown",
   "id": "9ed8de8b-82df-471b-b470-3bdee7a9a4ba",
   "metadata": {},
   "source": [
    "10. Why does this expression cause an error? How can you fix it?\n",
    "'I have eaten ' + 99 + ' burritos.'"
   ]
  },
  {
   "cell_type": "code",
   "execution_count": 1,
   "id": "5509f19b-bb82-4dc8-b8c6-a457a3fe7a2e",
   "metadata": {},
   "outputs": [
    {
     "data": {
      "text/plain": [
       "'I have eaten99burritos'"
      ]
     },
     "execution_count": 1,
     "metadata": {},
     "output_type": "execute_result"
    }
   ],
   "source": [
    "#As their is change in data type in the above expression so can't be added. To perform the operation we need to convert all values in same data type\n",
    "'I have eaten' + '99' + 'burritos'"
   ]
  }
 ],
 "metadata": {
  "kernelspec": {
   "display_name": "Python 3 (ipykernel)",
   "language": "python",
   "name": "python3"
  },
  "language_info": {
   "codemirror_mode": {
    "name": "ipython",
    "version": 3
   },
   "file_extension": ".py",
   "mimetype": "text/x-python",
   "name": "python",
   "nbconvert_exporter": "python",
   "pygments_lexer": "ipython3",
   "version": "3.10.6"
  }
 },
 "nbformat": 4,
 "nbformat_minor": 5
}
